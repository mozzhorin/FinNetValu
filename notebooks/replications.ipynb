{
 "cells": [
  {
   "cell_type": "code",
   "execution_count": 1,
   "metadata": {},
   "outputs": [
    {
     "data": {
      "text/plain": [
       "\"/home/mo/git/FinNetValu/Project.toml\""
      ]
     },
     "execution_count": 1,
     "metadata": {},
     "output_type": "execute_result"
    }
   ],
   "source": [
    "using Pkg\n",
    "Pkg.activate(\"../\")"
   ]
  },
  {
   "cell_type": "code",
   "execution_count": 2,
   "metadata": {},
   "outputs": [],
   "source": [
    "using FinNetValu\n",
    "using Distributions\n",
    "using LinearAlgebra\n",
    "using SparseArrays\n",
    "using ForwardDiff\n",
    "using Plots"
   ]
  },
  {
   "cell_type": "markdown",
   "metadata": {},
   "source": [
    "# Demonstration of network valuations"
   ]
  },
  {
   "cell_type": "markdown",
   "metadata": {},
   "source": [
    "## Examples from Suzuki (2002)\n",
    "\n",
    "Here, we replicate some examples from the paper\n",
    "\n",
    "Teruyoshi Suzuki, *Valuing corporate debt: the effect of cross-holdings of stock and debt*, Journal of the Operations Research, Vol. 45, 2002."
   ]
  },
  {
   "cell_type": "markdown",
   "metadata": {},
   "source": [
    "We start with fig. 6 showing the default spread of firms with cross-holdings.\n",
    "\n",
    "Two firm networks corresponding to his examples A and B are defined as follows:"
   ]
  },
  {
   "cell_type": "code",
   "execution_count": 3,
   "metadata": {},
   "outputs": [
    {
     "data": {
      "text/plain": [
       "XOS model of N = 2 firms with equity cross holdings."
      ]
     },
     "execution_count": 3,
     "metadata": {},
     "output_type": "execute_result"
    }
   ],
   "source": [
    "exampleA = XOSModel(spzeros(2,2), spzeros(2,2), I, [0.9, 0.9])\n",
    "exampleB = XOSModel([0.0 0.2; 0.2 0.0], spzeros(2,2), I, [0.9, 0.9])"
   ]
  },
  {
   "cell_type": "markdown",
   "metadata": {},
   "source": [
    "Next, we fix the parameters for the log-normal distributions of asset prices. Here, we only consider correlation $\\rho = -0.9$ between the Brownian motions, but you may want to experiment with other settings as well."
   ]
  },
  {
   "cell_type": "code",
   "execution_count": 4,
   "metadata": {},
   "outputs": [],
   "source": [
    "r = 0.0\n",
    "T = 10.0\n",
    "σ = [0.2, 0.2]\n",
    "Lᵨ = cholesky([1.0 -0.9; -0.9 1.0]).L;"
   ]
  },
  {
   "cell_type": "markdown",
   "metadata": {},
   "source": [
    "The following functions compute the ex-ante value of firms debt and the resulting bond spread. To this end, we take the risk-neutral expectation of the discounted, self-consistent debt value at maturity. Note that we evaluate the expectation by transforming standard normal random variates $Z$ to asset prices $A_\\tau$ which are then log-normally distributed. "
   ]
  },
  {
   "cell_type": "code",
   "execution_count": 5,
   "metadata": {},
   "outputs": [
    {
     "data": {
      "text/plain": [
       "spread (generic function with 1 method)"
      ]
     },
     "execution_count": 5,
     "metadata": {},
     "output_type": "execute_result"
    }
   ],
   "source": [
    "function debtval(net, τ)\n",
    "    N = numfirms(net)\n",
    "    θ = BlackScholesParams(r, τ, σ, Lᵨ)\n",
    "    expectation(Z -> discount(θ) .* debtview(net, fixvalue(net, Aτ(ones(N), θ, Z))),\n",
    "                MonteCarloSampler(MvNormal(N, 1.0)),\n",
    "                25000)\n",
    "end\n",
    "\n",
    "function spread(net, τ)\n",
    "    (log.(net.d) .- log.(debtval(net, τ))) ./ τ .- r\n",
    "end"
   ]
  },
  {
   "cell_type": "markdown",
   "metadata": {},
   "source": [
    "For the figure, bond spreads are computed over a range of different maturities. As both firms are symmetric in the examples, we could either show the bond spread of a single firm or the mean of both firms (as done here)."
   ]
  },
  {
   "cell_type": "code",
   "execution_count": 6,
   "metadata": {
    "scrolled": false
   },
   "outputs": [
    {
     "name": "stdout",
     "output_type": "stream",
     "text": [
      " 35.581580 seconds (219.55 M allocations: 33.180 GiB, 14.16% gc time)\n",
      " 32.153192 seconds (278.28 M allocations: 37.067 GiB, 16.96% gc time)\n"
     ]
    }
   ],
   "source": [
    "maturities = range(0, length = 101, stop = T)\n",
    "@time spreadsA = [spread(exampleA, τ)\n",
    "                  for τ in maturities]\n",
    "@time spreadsB = [spread(exampleB, τ)\n",
    "                 for τ in maturities];"
   ]
  },
  {
   "cell_type": "code",
   "execution_count": 7,
   "metadata": {},
   "outputs": [
    {
     "data": {
      "image/svg+xml": [
       "<?xml version=\"1.0\" encoding=\"utf-8\"?>\n",
       "<svg xmlns=\"http://www.w3.org/2000/svg\" xmlns:xlink=\"http://www.w3.org/1999/xlink\" width=\"600\" height=\"400\" viewBox=\"0 0 2400 1600\">\n",
       "<defs>\n",
       "  <clipPath id=\"clip4300\">\n",
       "    <rect x=\"0\" y=\"0\" width=\"2400\" height=\"1600\"/>\n",
       "  </clipPath>\n",
       "</defs>\n",
       "<polygon clip-path=\"url(#clip4300)\" points=\"\n",
       "0,1600 2400,1600 2400,0 0,0 \n",
       "  \" fill=\"#ffffff\" fill-rule=\"evenodd\" fill-opacity=\"1\"/>\n",
       "<defs>\n",
       "  <clipPath id=\"clip4301\">\n",
       "    <rect x=\"480\" y=\"0\" width=\"1681\" height=\"1600\"/>\n",
       "  </clipPath>\n",
       "</defs>\n",
       "<polygon clip-path=\"url(#clip4300)\" points=\"\n",
       "237.767,1440.48 2321.26,1440.48 2321.26,47.2441 237.767,47.2441 \n",
       "  \" fill=\"#ffffff\" fill-rule=\"evenodd\" fill-opacity=\"1\"/>\n",
       "<defs>\n",
       "  <clipPath id=\"clip4302\">\n",
       "    <rect x=\"237\" y=\"47\" width=\"2084\" height=\"1394\"/>\n",
       "  </clipPath>\n",
       "</defs>\n",
       "<polyline clip-path=\"url(#clip4302)\" style=\"stroke:#000000; stroke-width:2; stroke-opacity:0.1; fill:none\" points=\"\n",
       "  296.734,1440.48 296.734,47.2441 \n",
       "  \"/>\n",
       "<polyline clip-path=\"url(#clip4302)\" style=\"stroke:#000000; stroke-width:2; stroke-opacity:0.1; fill:none\" points=\"\n",
       "  788.124,1440.48 788.124,47.2441 \n",
       "  \"/>\n",
       "<polyline clip-path=\"url(#clip4302)\" style=\"stroke:#000000; stroke-width:2; stroke-opacity:0.1; fill:none\" points=\"\n",
       "  1279.51,1440.48 1279.51,47.2441 \n",
       "  \"/>\n",
       "<polyline clip-path=\"url(#clip4302)\" style=\"stroke:#000000; stroke-width:2; stroke-opacity:0.1; fill:none\" points=\"\n",
       "  1770.9,1440.48 1770.9,47.2441 \n",
       "  \"/>\n",
       "<polyline clip-path=\"url(#clip4302)\" style=\"stroke:#000000; stroke-width:2; stroke-opacity:0.1; fill:none\" points=\"\n",
       "  2262.29,1440.48 2262.29,47.2441 \n",
       "  \"/>\n",
       "<polyline clip-path=\"url(#clip4302)\" style=\"stroke:#000000; stroke-width:2; stroke-opacity:0.1; fill:none\" points=\"\n",
       "  237.767,1429.31 2321.26,1429.31 \n",
       "  \"/>\n",
       "<polyline clip-path=\"url(#clip4302)\" style=\"stroke:#000000; stroke-width:2; stroke-opacity:0.1; fill:none\" points=\"\n",
       "  237.767,1103.48 2321.26,1103.48 \n",
       "  \"/>\n",
       "<polyline clip-path=\"url(#clip4302)\" style=\"stroke:#000000; stroke-width:2; stroke-opacity:0.1; fill:none\" points=\"\n",
       "  237.767,777.656 2321.26,777.656 \n",
       "  \"/>\n",
       "<polyline clip-path=\"url(#clip4302)\" style=\"stroke:#000000; stroke-width:2; stroke-opacity:0.1; fill:none\" points=\"\n",
       "  237.767,451.83 2321.26,451.83 \n",
       "  \"/>\n",
       "<polyline clip-path=\"url(#clip4302)\" style=\"stroke:#000000; stroke-width:2; stroke-opacity:0.1; fill:none\" points=\"\n",
       "  237.767,126.005 2321.26,126.005 \n",
       "  \"/>\n",
       "<polyline clip-path=\"url(#clip4300)\" style=\"stroke:#000000; stroke-width:4; stroke-opacity:1; fill:none\" points=\"\n",
       "  237.767,1440.48 2321.26,1440.48 \n",
       "  \"/>\n",
       "<polyline clip-path=\"url(#clip4300)\" style=\"stroke:#000000; stroke-width:4; stroke-opacity:1; fill:none\" points=\"\n",
       "  237.767,1440.48 237.767,47.2441 \n",
       "  \"/>\n",
       "<polyline clip-path=\"url(#clip4300)\" style=\"stroke:#000000; stroke-width:4; stroke-opacity:1; fill:none\" points=\"\n",
       "  296.734,1440.48 296.734,1419.58 \n",
       "  \"/>\n",
       "<polyline clip-path=\"url(#clip4300)\" style=\"stroke:#000000; stroke-width:4; stroke-opacity:1; fill:none\" points=\"\n",
       "  788.124,1440.48 788.124,1419.58 \n",
       "  \"/>\n",
       "<polyline clip-path=\"url(#clip4300)\" style=\"stroke:#000000; stroke-width:4; stroke-opacity:1; fill:none\" points=\"\n",
       "  1279.51,1440.48 1279.51,1419.58 \n",
       "  \"/>\n",
       "<polyline clip-path=\"url(#clip4300)\" style=\"stroke:#000000; stroke-width:4; stroke-opacity:1; fill:none\" points=\"\n",
       "  1770.9,1440.48 1770.9,1419.58 \n",
       "  \"/>\n",
       "<polyline clip-path=\"url(#clip4300)\" style=\"stroke:#000000; stroke-width:4; stroke-opacity:1; fill:none\" points=\"\n",
       "  2262.29,1440.48 2262.29,1419.58 \n",
       "  \"/>\n",
       "<polyline clip-path=\"url(#clip4300)\" style=\"stroke:#000000; stroke-width:4; stroke-opacity:1; fill:none\" points=\"\n",
       "  237.767,1429.31 269.02,1429.31 \n",
       "  \"/>\n",
       "<polyline clip-path=\"url(#clip4300)\" style=\"stroke:#000000; stroke-width:4; stroke-opacity:1; fill:none\" points=\"\n",
       "  237.767,1103.48 269.02,1103.48 \n",
       "  \"/>\n",
       "<polyline clip-path=\"url(#clip4300)\" style=\"stroke:#000000; stroke-width:4; stroke-opacity:1; fill:none\" points=\"\n",
       "  237.767,777.656 269.02,777.656 \n",
       "  \"/>\n",
       "<polyline clip-path=\"url(#clip4300)\" style=\"stroke:#000000; stroke-width:4; stroke-opacity:1; fill:none\" points=\"\n",
       "  237.767,451.83 269.02,451.83 \n",
       "  \"/>\n",
       "<polyline clip-path=\"url(#clip4300)\" style=\"stroke:#000000; stroke-width:4; stroke-opacity:1; fill:none\" points=\"\n",
       "  237.767,126.005 269.02,126.005 \n",
       "  \"/>\n",
       "<g clip-path=\"url(#clip4300)\">\n",
       "<text style=\"fill:#000000; fill-opacity:1; font-family:Arial,Helvetica Neue,Helvetica,sans-serif; font-size:48px; text-anchor:middle;\" transform=\"rotate(0, 296.734, 1494.48)\" x=\"296.734\" y=\"1494.48\">0.0</text>\n",
       "</g>\n",
       "<g clip-path=\"url(#clip4300)\">\n",
       "<text style=\"fill:#000000; fill-opacity:1; font-family:Arial,Helvetica Neue,Helvetica,sans-serif; font-size:48px; text-anchor:middle;\" transform=\"rotate(0, 788.124, 1494.48)\" x=\"788.124\" y=\"1494.48\">2.5</text>\n",
       "</g>\n",
       "<g clip-path=\"url(#clip4300)\">\n",
       "<text style=\"fill:#000000; fill-opacity:1; font-family:Arial,Helvetica Neue,Helvetica,sans-serif; font-size:48px; text-anchor:middle;\" transform=\"rotate(0, 1279.51, 1494.48)\" x=\"1279.51\" y=\"1494.48\">5.0</text>\n",
       "</g>\n",
       "<g clip-path=\"url(#clip4300)\">\n",
       "<text style=\"fill:#000000; fill-opacity:1; font-family:Arial,Helvetica Neue,Helvetica,sans-serif; font-size:48px; text-anchor:middle;\" transform=\"rotate(0, 1770.9, 1494.48)\" x=\"1770.9\" y=\"1494.48\">7.5</text>\n",
       "</g>\n",
       "<g clip-path=\"url(#clip4300)\">\n",
       "<text style=\"fill:#000000; fill-opacity:1; font-family:Arial,Helvetica Neue,Helvetica,sans-serif; font-size:48px; text-anchor:middle;\" transform=\"rotate(0, 2262.29, 1494.48)\" x=\"2262.29\" y=\"1494.48\">10.0</text>\n",
       "</g>\n",
       "<g clip-path=\"url(#clip4300)\">\n",
       "<text style=\"fill:#000000; fill-opacity:1; font-family:Arial,Helvetica Neue,Helvetica,sans-serif; font-size:48px; text-anchor:end;\" transform=\"rotate(0, 213.767, 1446.81)\" x=\"213.767\" y=\"1446.81\">0</text>\n",
       "</g>\n",
       "<g clip-path=\"url(#clip4300)\">\n",
       "<text style=\"fill:#000000; fill-opacity:1; font-family:Arial,Helvetica Neue,Helvetica,sans-serif; font-size:48px; text-anchor:end;\" transform=\"rotate(0, 213.767, 1120.98)\" x=\"213.767\" y=\"1120.98\">100</text>\n",
       "</g>\n",
       "<g clip-path=\"url(#clip4300)\">\n",
       "<text style=\"fill:#000000; fill-opacity:1; font-family:Arial,Helvetica Neue,Helvetica,sans-serif; font-size:48px; text-anchor:end;\" transform=\"rotate(0, 213.767, 795.156)\" x=\"213.767\" y=\"795.156\">200</text>\n",
       "</g>\n",
       "<g clip-path=\"url(#clip4300)\">\n",
       "<text style=\"fill:#000000; fill-opacity:1; font-family:Arial,Helvetica Neue,Helvetica,sans-serif; font-size:48px; text-anchor:end;\" transform=\"rotate(0, 213.767, 469.33)\" x=\"213.767\" y=\"469.33\">300</text>\n",
       "</g>\n",
       "<g clip-path=\"url(#clip4300)\">\n",
       "<text style=\"fill:#000000; fill-opacity:1; font-family:Arial,Helvetica Neue,Helvetica,sans-serif; font-size:48px; text-anchor:end;\" transform=\"rotate(0, 213.767, 143.505)\" x=\"213.767\" y=\"143.505\">400</text>\n",
       "</g>\n",
       "<g clip-path=\"url(#clip4300)\">\n",
       "<text style=\"fill:#000000; fill-opacity:1; font-family:Arial,Helvetica Neue,Helvetica,sans-serif; font-size:66px; text-anchor:middle;\" transform=\"rotate(0, 1279.51, 1590.4)\" x=\"1279.51\" y=\"1590.4\">Bond maturity [years]</text>\n",
       "</g>\n",
       "<g clip-path=\"url(#clip4300)\">\n",
       "<text style=\"fill:#000000; fill-opacity:1; font-family:Arial,Helvetica Neue,Helvetica,sans-serif; font-size:66px; text-anchor:middle;\" transform=\"rotate(-90, 57.6, 743.863)\" x=\"57.6\" y=\"743.863\">Basis points</text>\n",
       "</g>\n",
       "<polyline clip-path=\"url(#clip4302)\" style=\"stroke:#009af9; stroke-width:4; stroke-opacity:1; fill:none\" points=\"\n",
       "  316.39,1017.4 336.045,517.703 355.701,314.666 375.356,186.633 395.012,123.834 414.668,102.891 434.323,86.6754 453.979,94.4443 473.634,109 493.29,93.4033 \n",
       "  512.946,109.466 532.601,121.737 552.257,139.371 571.912,147.663 591.568,173.508 611.224,174.277 630.879,199.542 650.535,202.762 670.19,202.53 689.846,214.867 \n",
       "  709.501,236.389 729.157,249.071 748.813,261.756 768.468,275.785 788.124,279.808 807.779,296.486 827.435,305.333 847.091,317.401 866.746,329.917 886.402,329.235 \n",
       "  906.057,348.79 925.713,337.682 945.369,343.703 965.024,364.49 984.68,373.413 1004.34,377.728 1023.99,384.132 1043.65,393.779 1063.3,407.906 1082.96,410.141 \n",
       "  1102.61,415.086 1122.27,427.392 1141.92,428.137 1161.58,435.76 1181.24,436.358 1200.89,449.023 1220.55,456.646 1240.2,456.494 1259.86,474.602 1279.51,476.722 \n",
       "  1299.17,485.374 1318.82,483.986 1338.48,491.433 1358.14,496.992 1377.79,504.533 1397.45,508.628 1417.1,510.707 1436.76,515.306 1456.41,520.235 1476.07,525.13 \n",
       "  1495.73,531.758 1515.38,529.467 1535.04,539.629 1554.69,542.57 1574.35,550.186 1594,555.31 1613.66,556.962 1633.31,564.105 1652.97,562.632 1672.63,568.817 \n",
       "  1692.28,573.348 1711.94,572.332 1731.59,580.205 1751.25,579.63 1770.9,588.479 1790.56,588.197 1810.21,594.723 1829.87,597.257 1849.53,604.492 1869.18,602.45 \n",
       "  1888.84,608.517 1908.49,615.925 1928.15,615.462 1947.8,613.683 1967.46,619.378 1987.11,624.718 2006.77,629.434 2026.43,628.252 2046.08,638.753 2065.74,636.365 \n",
       "  2085.39,635.224 2105.05,641.057 2124.7,642.171 2144.36,646.248 2164.02,646.033 2183.67,654.115 2203.33,654.061 2222.98,656.575 2242.64,657.681 2262.29,661.433 \n",
       "  \n",
       "  \"/>\n",
       "<polyline clip-path=\"url(#clip4302)\" style=\"stroke:#e26f46; stroke-width:4; stroke-opacity:1; fill:none\" points=\"\n",
       "  316.39,1401.05 336.045,1266.53 355.701,1143.47 375.356,1031.55 395.012,949.84 414.668,909.801 434.323,867.71 453.979,832.76 473.634,795.827 493.29,786.303 \n",
       "  512.946,782.698 532.601,775.069 552.257,766.826 571.912,752.918 591.568,754.143 611.224,737.501 630.879,749.82 650.535,741.958 670.19,743.346 689.846,741.076 \n",
       "  709.501,746.424 729.157,733.612 748.813,748.431 768.468,755.906 788.124,752.077 807.779,752.622 827.435,751.146 847.091,752.096 866.746,763.93 886.402,766.833 \n",
       "  906.057,767.701 925.713,767.088 945.369,772.166 965.024,768.524 984.68,776.118 1004.34,778.391 1023.99,785.02 1043.65,783.419 1063.3,788.544 1082.96,793.934 \n",
       "  1102.61,793.999 1122.27,794.746 1141.92,805.334 1161.58,804.587 1181.24,804.347 1200.89,807.755 1220.55,810.669 1240.2,814.578 1259.86,811.73 1279.51,818.309 \n",
       "  1299.17,816.113 1318.82,819.875 1338.48,823.674 1358.14,824.67 1377.79,828.763 1397.45,829.029 1417.1,830.961 1436.76,837.295 1456.41,833.339 1476.07,841.64 \n",
       "  1495.73,841.032 1515.38,844.037 1535.04,843.913 1554.69,846.042 1574.35,851.183 1594,852.185 1613.66,854.704 1633.31,857.362 1652.97,861.177 1672.63,857.424 \n",
       "  1692.28,859.735 1711.94,867.481 1731.59,868.199 1751.25,866.48 1770.9,872.786 1790.56,870.279 1810.21,871.218 1829.87,873.64 1849.53,874.586 1869.18,878.868 \n",
       "  1888.84,875.918 1908.49,878.102 1928.15,888.557 1947.8,886.703 1967.46,888.001 1987.11,887.622 2006.77,886.033 2026.43,887.086 2046.08,891.186 2065.74,894.837 \n",
       "  2085.39,897.241 2105.05,897.627 2124.7,900.369 2144.36,897.86 2164.02,902.816 2183.67,905.296 2203.33,903.7 2222.98,906.898 2242.64,905.748 2262.29,906.215 \n",
       "  \n",
       "  \"/>\n",
       "<polygon clip-path=\"url(#clip4300)\" points=\"\n",
       "1530.33,312.204 2249.26,312.204 2249.26,130.764 1530.33,130.764 \n",
       "  \" fill=\"#ffffff\" fill-rule=\"evenodd\" fill-opacity=\"1\"/>\n",
       "<polyline clip-path=\"url(#clip4300)\" style=\"stroke:#000000; stroke-width:4; stroke-opacity:1; fill:none\" points=\"\n",
       "  1530.33,312.204 2249.26,312.204 2249.26,130.764 1530.33,130.764 1530.33,312.204 \n",
       "  \"/>\n",
       "<polyline clip-path=\"url(#clip4300)\" style=\"stroke:#009af9; stroke-width:4; stroke-opacity:1; fill:none\" points=\"\n",
       "  1554.33,191.244 1698.33,191.244 \n",
       "  \"/>\n",
       "<g clip-path=\"url(#clip4300)\">\n",
       "<text style=\"fill:#000000; fill-opacity:1; font-family:Arial,Helvetica Neue,Helvetica,sans-serif; font-size:48px; text-anchor:start;\" transform=\"rotate(0, 1722.33, 208.744)\" x=\"1722.33\" y=\"208.744\">Example A</text>\n",
       "</g>\n",
       "<polyline clip-path=\"url(#clip4300)\" style=\"stroke:#e26f46; stroke-width:4; stroke-opacity:1; fill:none\" points=\"\n",
       "  1554.33,251.724 1698.33,251.724 \n",
       "  \"/>\n",
       "<g clip-path=\"url(#clip4300)\">\n",
       "<text style=\"fill:#000000; fill-opacity:1; font-family:Arial,Helvetica Neue,Helvetica,sans-serif; font-size:48px; text-anchor:start;\" transform=\"rotate(0, 1722.33, 269.224)\" x=\"1722.33\" y=\"269.224\">Example B, rho = -0.9</text>\n",
       "</g>\n",
       "</svg>\n"
      ]
     },
     "execution_count": 7,
     "metadata": {},
     "output_type": "execute_result"
    }
   ],
   "source": [
    "plt = plot(maturities, 10000 .* map(mean, spreadsA), label = \"Example A\",\n",
    "           xlabel = \"Bond maturity [years]\", ylabel = \"Basis points\")\n",
    "plot!(plt, maturities, 10000 .* map(mean, spreadsB), label = \"Example B, rho = -0.9\")"
   ]
  },
  {
   "cell_type": "markdown",
   "metadata": {},
   "source": [
    "With similar ease we can replicate the firm values of the larger example."
   ]
  },
  {
   "cell_type": "code",
   "execution_count": null,
   "metadata": {},
   "outputs": [],
   "source": [
    "exampleN = XOSModel([0.0 0.2 0.3 0.1; 0.2 0.0 0.2 0.1; 0.1 0.1 0.0 0.3; 0.1 0.1 0.1 0.0],\n",
    "                    [0.0 0.0 0.1 0.0; 0.0 0.0 0.0 0.1; 0.1 0.0 0.0 0.1; 0.0 0.1 0.0 0.0],\n",
    "                    I,\n",
    "                    [0.8, 0.8, 0.8, 0.8])\n",
    "\n",
    "Aₜ = [2.0, 0.5, 0.6, 0.6]\n",
    "X = zeros(8)\n",
    "println(\"X_0 = \", X')\n",
    "for i = 1:20\n",
    "    X = valuation(exampleN, X, Aₜ)\n",
    "    println(\"X_\", i, \" = \", X')\n",
    "end"
   ]
  },
  {
   "cell_type": "markdown",
   "metadata": {},
   "source": [
    "## Examples from Barucca et al. (2016)\n",
    "\n",
    "Here we replicate some figures from the paper\n",
    "\n",
    "Paolo Barucca, Marco Bardoscia, Fabio Caccioli, Marco D’Errico, Gabriele Visentin, Stefano Battiston and Guido Caldarelli, *Network Valuation in Financial Systems*, arXiv:1606.05164v2, 2016."
   ]
  },
  {
   "cell_type": "markdown",
   "metadata": {},
   "source": [
    "To reproduce figure 1, we use the simplest possible setup. I.e. we define the corresponding models with a single firm and run their valuations functions across a range of equities."
   ]
  },
  {
   "cell_type": "code",
   "execution_count": 3,
   "metadata": {},
   "outputs": [
    {
     "data": {
      "text/plain": [
       "Linear Debt Rank model with N = 1 firms."
      ]
     },
     "execution_count": 3,
     "metadata": {},
     "output_type": "execute_result"
    }
   ],
   "source": [
    "EN = EisenbergNoeModel([0.0], 2 .* ones(1,1))\n",
    "Furfine = FurfineModel([0.0], 2 .* ones(1,1), 0)\n",
    "LinearDR = LinearDebtRankModel([0.0], 2 * ones(1,1))"
   ]
  },
  {
   "cell_type": "code",
   "execution_count": 4,
   "metadata": {},
   "outputs": [
    {
     "data": {
      "image/svg+xml": [
       "<?xml version=\"1.0\" encoding=\"utf-8\"?>\n",
       "<svg xmlns=\"http://www.w3.org/2000/svg\" xmlns:xlink=\"http://www.w3.org/1999/xlink\" width=\"600\" height=\"400\" viewBox=\"0 0 2400 1600\">\n",
       "<defs>\n",
       "  <clipPath id=\"clip1700\">\n",
       "    <rect x=\"0\" y=\"0\" width=\"2400\" height=\"1600\"/>\n",
       "  </clipPath>\n",
       "</defs>\n",
       "<polygon clip-path=\"url(#clip1700)\" points=\"\n",
       "0,1600 2400,1600 2400,0 0,0 \n",
       "  \" fill=\"#ffffff\" fill-rule=\"evenodd\" fill-opacity=\"1\"/>\n",
       "<defs>\n",
       "  <clipPath id=\"clip1701\">\n",
       "    <rect x=\"480\" y=\"0\" width=\"1681\" height=\"1600\"/>\n",
       "  </clipPath>\n",
       "</defs>\n",
       "<polygon clip-path=\"url(#clip1700)\" points=\"\n",
       "251.149,1440.48 2321.26,1440.48 2321.26,47.2441 251.149,47.2441 \n",
       "  \" fill=\"#ffffff\" fill-rule=\"evenodd\" fill-opacity=\"1\"/>\n",
       "<defs>\n",
       "  <clipPath id=\"clip1702\">\n",
       "    <rect x=\"251\" y=\"47\" width=\"2071\" height=\"1394\"/>\n",
       "  </clipPath>\n",
       "</defs>\n",
       "<polyline clip-path=\"url(#clip1702)\" style=\"stroke:#000000; stroke-width:2; stroke-opacity:0.1; fill:none\" points=\"\n",
       "  309.737,1440.48 309.737,47.2441 \n",
       "  \"/>\n",
       "<polyline clip-path=\"url(#clip1702)\" style=\"stroke:#000000; stroke-width:2; stroke-opacity:0.1; fill:none\" points=\"\n",
       "  635.226,1440.48 635.226,47.2441 \n",
       "  \"/>\n",
       "<polyline clip-path=\"url(#clip1702)\" style=\"stroke:#000000; stroke-width:2; stroke-opacity:0.1; fill:none\" points=\"\n",
       "  960.715,1440.48 960.715,47.2441 \n",
       "  \"/>\n",
       "<polyline clip-path=\"url(#clip1702)\" style=\"stroke:#000000; stroke-width:2; stroke-opacity:0.1; fill:none\" points=\"\n",
       "  1286.2,1440.48 1286.2,47.2441 \n",
       "  \"/>\n",
       "<polyline clip-path=\"url(#clip1702)\" style=\"stroke:#000000; stroke-width:2; stroke-opacity:0.1; fill:none\" points=\"\n",
       "  1611.69,1440.48 1611.69,47.2441 \n",
       "  \"/>\n",
       "<polyline clip-path=\"url(#clip1702)\" style=\"stroke:#000000; stroke-width:2; stroke-opacity:0.1; fill:none\" points=\"\n",
       "  1937.18,1440.48 1937.18,47.2441 \n",
       "  \"/>\n",
       "<polyline clip-path=\"url(#clip1702)\" style=\"stroke:#000000; stroke-width:2; stroke-opacity:0.1; fill:none\" points=\"\n",
       "  2262.67,1440.48 2262.67,47.2441 \n",
       "  \"/>\n",
       "<polyline clip-path=\"url(#clip1702)\" style=\"stroke:#000000; stroke-width:2; stroke-opacity:0.1; fill:none\" points=\"\n",
       "  251.149,1401.05 2321.26,1401.05 \n",
       "  \"/>\n",
       "<polyline clip-path=\"url(#clip1702)\" style=\"stroke:#000000; stroke-width:2; stroke-opacity:0.1; fill:none\" points=\"\n",
       "  251.149,1072.46 2321.26,1072.46 \n",
       "  \"/>\n",
       "<polyline clip-path=\"url(#clip1702)\" style=\"stroke:#000000; stroke-width:2; stroke-opacity:0.1; fill:none\" points=\"\n",
       "  251.149,743.863 2321.26,743.863 \n",
       "  \"/>\n",
       "<polyline clip-path=\"url(#clip1702)\" style=\"stroke:#000000; stroke-width:2; stroke-opacity:0.1; fill:none\" points=\"\n",
       "  251.149,415.269 2321.26,415.269 \n",
       "  \"/>\n",
       "<polyline clip-path=\"url(#clip1702)\" style=\"stroke:#000000; stroke-width:2; stroke-opacity:0.1; fill:none\" points=\"\n",
       "  251.149,86.6754 2321.26,86.6754 \n",
       "  \"/>\n",
       "<polyline clip-path=\"url(#clip1700)\" style=\"stroke:#000000; stroke-width:4; stroke-opacity:1; fill:none\" points=\"\n",
       "  251.149,1440.48 2321.26,1440.48 \n",
       "  \"/>\n",
       "<polyline clip-path=\"url(#clip1700)\" style=\"stroke:#000000; stroke-width:4; stroke-opacity:1; fill:none\" points=\"\n",
       "  251.149,1440.48 251.149,47.2441 \n",
       "  \"/>\n",
       "<polyline clip-path=\"url(#clip1700)\" style=\"stroke:#000000; stroke-width:4; stroke-opacity:1; fill:none\" points=\"\n",
       "  309.737,1440.48 309.737,1419.58 \n",
       "  \"/>\n",
       "<polyline clip-path=\"url(#clip1700)\" style=\"stroke:#000000; stroke-width:4; stroke-opacity:1; fill:none\" points=\"\n",
       "  635.226,1440.48 635.226,1419.58 \n",
       "  \"/>\n",
       "<polyline clip-path=\"url(#clip1700)\" style=\"stroke:#000000; stroke-width:4; stroke-opacity:1; fill:none\" points=\"\n",
       "  960.715,1440.48 960.715,1419.58 \n",
       "  \"/>\n",
       "<polyline clip-path=\"url(#clip1700)\" style=\"stroke:#000000; stroke-width:4; stroke-opacity:1; fill:none\" points=\"\n",
       "  1286.2,1440.48 1286.2,1419.58 \n",
       "  \"/>\n",
       "<polyline clip-path=\"url(#clip1700)\" style=\"stroke:#000000; stroke-width:4; stroke-opacity:1; fill:none\" points=\"\n",
       "  1611.69,1440.48 1611.69,1419.58 \n",
       "  \"/>\n",
       "<polyline clip-path=\"url(#clip1700)\" style=\"stroke:#000000; stroke-width:4; stroke-opacity:1; fill:none\" points=\"\n",
       "  1937.18,1440.48 1937.18,1419.58 \n",
       "  \"/>\n",
       "<polyline clip-path=\"url(#clip1700)\" style=\"stroke:#000000; stroke-width:4; stroke-opacity:1; fill:none\" points=\"\n",
       "  2262.67,1440.48 2262.67,1419.58 \n",
       "  \"/>\n",
       "<polyline clip-path=\"url(#clip1700)\" style=\"stroke:#000000; stroke-width:4; stroke-opacity:1; fill:none\" points=\"\n",
       "  251.149,1401.05 282.2,1401.05 \n",
       "  \"/>\n",
       "<polyline clip-path=\"url(#clip1700)\" style=\"stroke:#000000; stroke-width:4; stroke-opacity:1; fill:none\" points=\"\n",
       "  251.149,1072.46 282.2,1072.46 \n",
       "  \"/>\n",
       "<polyline clip-path=\"url(#clip1700)\" style=\"stroke:#000000; stroke-width:4; stroke-opacity:1; fill:none\" points=\"\n",
       "  251.149,743.863 282.2,743.863 \n",
       "  \"/>\n",
       "<polyline clip-path=\"url(#clip1700)\" style=\"stroke:#000000; stroke-width:4; stroke-opacity:1; fill:none\" points=\"\n",
       "  251.149,415.269 282.2,415.269 \n",
       "  \"/>\n",
       "<polyline clip-path=\"url(#clip1700)\" style=\"stroke:#000000; stroke-width:4; stroke-opacity:1; fill:none\" points=\"\n",
       "  251.149,86.6754 282.2,86.6754 \n",
       "  \"/>\n",
       "<g clip-path=\"url(#clip1700)\">\n",
       "<text style=\"fill:#000000; fill-opacity:1; font-family:Arial,Helvetica Neue,Helvetica,sans-serif; font-size:48px; text-anchor:middle;\" transform=\"rotate(0, 309.737, 1494.48)\" x=\"309.737\" y=\"1494.48\">-3</text>\n",
       "</g>\n",
       "<g clip-path=\"url(#clip1700)\">\n",
       "<text style=\"fill:#000000; fill-opacity:1; font-family:Arial,Helvetica Neue,Helvetica,sans-serif; font-size:48px; text-anchor:middle;\" transform=\"rotate(0, 635.226, 1494.48)\" x=\"635.226\" y=\"1494.48\">-2</text>\n",
       "</g>\n",
       "<g clip-path=\"url(#clip1700)\">\n",
       "<text style=\"fill:#000000; fill-opacity:1; font-family:Arial,Helvetica Neue,Helvetica,sans-serif; font-size:48px; text-anchor:middle;\" transform=\"rotate(0, 960.715, 1494.48)\" x=\"960.715\" y=\"1494.48\">-1</text>\n",
       "</g>\n",
       "<g clip-path=\"url(#clip1700)\">\n",
       "<text style=\"fill:#000000; fill-opacity:1; font-family:Arial,Helvetica Neue,Helvetica,sans-serif; font-size:48px; text-anchor:middle;\" transform=\"rotate(0, 1286.2, 1494.48)\" x=\"1286.2\" y=\"1494.48\">0</text>\n",
       "</g>\n",
       "<g clip-path=\"url(#clip1700)\">\n",
       "<text style=\"fill:#000000; fill-opacity:1; font-family:Arial,Helvetica Neue,Helvetica,sans-serif; font-size:48px; text-anchor:middle;\" transform=\"rotate(0, 1611.69, 1494.48)\" x=\"1611.69\" y=\"1494.48\">1</text>\n",
       "</g>\n",
       "<g clip-path=\"url(#clip1700)\">\n",
       "<text style=\"fill:#000000; fill-opacity:1; font-family:Arial,Helvetica Neue,Helvetica,sans-serif; font-size:48px; text-anchor:middle;\" transform=\"rotate(0, 1937.18, 1494.48)\" x=\"1937.18\" y=\"1494.48\">2</text>\n",
       "</g>\n",
       "<g clip-path=\"url(#clip1700)\">\n",
       "<text style=\"fill:#000000; fill-opacity:1; font-family:Arial,Helvetica Neue,Helvetica,sans-serif; font-size:48px; text-anchor:middle;\" transform=\"rotate(0, 2262.67, 1494.48)\" x=\"2262.67\" y=\"1494.48\">3</text>\n",
       "</g>\n",
       "<g clip-path=\"url(#clip1700)\">\n",
       "<text style=\"fill:#000000; fill-opacity:1; font-family:Arial,Helvetica Neue,Helvetica,sans-serif; font-size:48px; text-anchor:end;\" transform=\"rotate(0, 227.149, 1418.55)\" x=\"227.149\" y=\"1418.55\">0.00</text>\n",
       "</g>\n",
       "<g clip-path=\"url(#clip1700)\">\n",
       "<text style=\"fill:#000000; fill-opacity:1; font-family:Arial,Helvetica Neue,Helvetica,sans-serif; font-size:48px; text-anchor:end;\" transform=\"rotate(0, 227.149, 1089.96)\" x=\"227.149\" y=\"1089.96\">0.25</text>\n",
       "</g>\n",
       "<g clip-path=\"url(#clip1700)\">\n",
       "<text style=\"fill:#000000; fill-opacity:1; font-family:Arial,Helvetica Neue,Helvetica,sans-serif; font-size:48px; text-anchor:end;\" transform=\"rotate(0, 227.149, 761.363)\" x=\"227.149\" y=\"761.363\">0.50</text>\n",
       "</g>\n",
       "<g clip-path=\"url(#clip1700)\">\n",
       "<text style=\"fill:#000000; fill-opacity:1; font-family:Arial,Helvetica Neue,Helvetica,sans-serif; font-size:48px; text-anchor:end;\" transform=\"rotate(0, 227.149, 432.769)\" x=\"227.149\" y=\"432.769\">0.75</text>\n",
       "</g>\n",
       "<g clip-path=\"url(#clip1700)\">\n",
       "<text style=\"fill:#000000; fill-opacity:1; font-family:Arial,Helvetica Neue,Helvetica,sans-serif; font-size:48px; text-anchor:end;\" transform=\"rotate(0, 227.149, 104.175)\" x=\"227.149\" y=\"104.175\">1.00</text>\n",
       "</g>\n",
       "<g clip-path=\"url(#clip1700)\">\n",
       "<text style=\"fill:#000000; fill-opacity:1; font-family:Arial,Helvetica Neue,Helvetica,sans-serif; font-size:66px; text-anchor:middle;\" transform=\"rotate(0, 1286.2, 1590.4)\" x=\"1286.2\" y=\"1590.4\">equity of the borrower</text>\n",
       "</g>\n",
       "<g clip-path=\"url(#clip1700)\">\n",
       "<text style=\"fill:#000000; fill-opacity:1; font-family:Arial,Helvetica Neue,Helvetica,sans-serif; font-size:66px; text-anchor:middle;\" transform=\"rotate(-90, 128.749, 743.863)\" x=\"128.749\" y=\"743.863\">interbank valuation function</text>\n",
       "</g>\n",
       "<polyline clip-path=\"url(#clip1702)\" style=\"stroke:#009af9; stroke-width:4; stroke-opacity:1; fill:none\" points=\"\n",
       "  309.737,1401.05 317.548,1401.05 325.36,1401.05 333.172,1401.05 340.984,1401.05 348.795,1401.05 356.607,1401.05 364.419,1401.05 372.23,1401.05 380.042,1401.05 \n",
       "  387.854,1401.05 395.666,1401.05 403.477,1401.05 411.289,1401.05 419.101,1401.05 426.913,1401.05 434.724,1401.05 442.536,1401.05 450.348,1401.05 458.16,1401.05 \n",
       "  465.971,1401.05 473.783,1401.05 481.595,1401.05 489.407,1401.05 497.218,1401.05 505.03,1401.05 512.842,1401.05 520.654,1401.05 528.465,1401.05 536.277,1401.05 \n",
       "  544.089,1401.05 551.901,1401.05 559.712,1401.05 567.524,1401.05 575.336,1401.05 583.147,1401.05 590.959,1401.05 598.771,1401.05 606.583,1401.05 614.394,1401.05 \n",
       "  622.206,1401.05 630.018,1401.05 637.83,1395.79 645.641,1380.02 653.453,1364.25 661.265,1348.48 669.077,1332.7 676.888,1316.93 684.7,1301.16 692.512,1285.39 \n",
       "  700.324,1269.61 708.135,1253.84 715.947,1238.07 723.759,1222.3 731.571,1206.52 739.382,1190.75 747.194,1174.98 755.006,1159.21 762.818,1143.43 770.629,1127.66 \n",
       "  778.441,1111.89 786.253,1096.12 794.064,1080.34 801.876,1064.57 809.688,1048.8 817.5,1033.03 825.311,1017.25 833.123,1001.48 840.935,985.709 848.747,969.936 \n",
       "  856.558,954.163 864.37,938.391 872.182,922.618 879.994,906.846 887.805,891.073 895.617,875.301 903.429,859.528 911.241,843.756 919.052,827.983 926.864,812.211 \n",
       "  934.676,796.438 942.488,780.666 950.299,764.893 958.111,749.121 965.923,733.348 973.735,717.576 981.546,701.803 989.358,686.031 997.17,670.258 1004.98,654.486 \n",
       "  1012.79,638.713 1020.6,622.941 1028.42,607.168 1036.23,591.396 1044.04,575.623 1051.85,559.851 1059.66,544.078 1067.48,528.306 1075.29,512.533 1083.1,496.761 \n",
       "  1090.91,480.988 1098.72,465.216 1106.53,449.443 1114.35,433.671 1122.16,417.898 1129.97,402.126 1137.78,386.353 1145.59,370.581 1153.4,354.808 1161.22,339.036 \n",
       "  1169.03,323.263 1176.84,307.491 1184.65,291.718 1192.46,275.946 1200.28,260.173 1208.09,244.4 1215.9,228.628 1223.71,212.855 1231.52,197.083 1239.33,181.31 \n",
       "  1247.15,165.538 1254.96,149.765 1262.77,133.993 1270.58,118.22 1278.39,102.448 1286.2,86.6754 1294.02,86.6754 1301.83,86.6754 1309.64,86.6754 1317.45,86.6754 \n",
       "  1325.26,86.6754 1333.07,86.6754 1340.89,86.6754 1348.7,86.6754 1356.51,86.6754 1364.32,86.6754 1372.13,86.6754 1379.95,86.6754 1387.76,86.6754 1395.57,86.6754 \n",
       "  1403.38,86.6754 1411.19,86.6754 1419,86.6754 1426.82,86.6754 1434.63,86.6754 1442.44,86.6754 1450.25,86.6754 1458.06,86.6754 1465.87,86.6754 1473.69,86.6754 \n",
       "  1481.5,86.6754 1489.31,86.6754 1497.12,86.6754 1504.93,86.6754 1512.74,86.6754 1520.56,86.6754 1528.37,86.6754 1536.18,86.6754 1543.99,86.6754 1551.8,86.6754 \n",
       "  1559.62,86.6754 1567.43,86.6754 1575.24,86.6754 1583.05,86.6754 1590.86,86.6754 1598.67,86.6754 1606.49,86.6754 1614.3,86.6754 1622.11,86.6754 1629.92,86.6754 \n",
       "  1637.73,86.6754 1645.54,86.6754 1653.36,86.6754 1661.17,86.6754 1668.98,86.6754 1676.79,86.6754 1684.6,86.6754 1692.41,86.6754 1700.23,86.6754 1708.04,86.6754 \n",
       "  1715.85,86.6754 1723.66,86.6754 1731.47,86.6754 1739.29,86.6754 1747.1,86.6754 1754.91,86.6754 1762.72,86.6754 1770.53,86.6754 1778.34,86.6754 1786.16,86.6754 \n",
       "  1793.97,86.6754 1801.78,86.6754 1809.59,86.6754 1817.4,86.6754 1825.21,86.6754 1833.03,86.6754 1840.84,86.6754 1848.65,86.6754 1856.46,86.6754 1864.27,86.6754 \n",
       "  1872.08,86.6754 1879.9,86.6754 1887.71,86.6754 1895.52,86.6754 1903.33,86.6754 1911.14,86.6754 1918.96,86.6754 1926.77,86.6754 1934.58,86.6754 1942.39,86.6754 \n",
       "  1950.2,86.6754 1958.01,86.6754 1965.83,86.6754 1973.64,86.6754 1981.45,86.6754 1989.26,86.6754 1997.07,86.6754 2004.88,86.6754 2012.7,86.6754 2020.51,86.6754 \n",
       "  2028.32,86.6754 2036.13,86.6754 2043.94,86.6754 2051.75,86.6754 2059.57,86.6754 2067.38,86.6754 2075.19,86.6754 2083,86.6754 2090.81,86.6754 2098.63,86.6754 \n",
       "  2106.44,86.6754 2114.25,86.6754 2122.06,86.6754 2129.87,86.6754 2137.68,86.6754 2145.5,86.6754 2153.31,86.6754 2161.12,86.6754 2168.93,86.6754 2176.74,86.6754 \n",
       "  2184.55,86.6754 2192.37,86.6754 2200.18,86.6754 2207.99,86.6754 2215.8,86.6754 2223.61,86.6754 2231.42,86.6754 2239.24,86.6754 2247.05,86.6754 2254.86,86.6754 \n",
       "  2262.67,86.6754 \n",
       "  \"/>\n",
       "<polyline clip-path=\"url(#clip1702)\" style=\"stroke:#e26f46; stroke-width:4; stroke-opacity:1; fill:none\" points=\"\n",
       "  309.737,1401.05 317.548,1401.05 325.36,1401.05 333.172,1401.05 340.984,1401.05 348.795,1401.05 356.607,1401.05 364.419,1401.05 372.23,1401.05 380.042,1401.05 \n",
       "  387.854,1401.05 395.666,1401.05 403.477,1401.05 411.289,1401.05 419.101,1401.05 426.913,1401.05 434.724,1401.05 442.536,1401.05 450.348,1401.05 458.16,1401.05 \n",
       "  465.971,1401.05 473.783,1401.05 481.595,1401.05 489.407,1401.05 497.218,1401.05 505.03,1401.05 512.842,1401.05 520.654,1401.05 528.465,1401.05 536.277,1401.05 \n",
       "  544.089,1401.05 551.901,1401.05 559.712,1401.05 567.524,1401.05 575.336,1401.05 583.147,1401.05 590.959,1401.05 598.771,1401.05 606.583,1401.05 614.394,1401.05 \n",
       "  622.206,1401.05 630.018,1401.05 637.83,1401.05 645.641,1401.05 653.453,1401.05 661.265,1401.05 669.077,1401.05 676.888,1401.05 684.7,1401.05 692.512,1401.05 \n",
       "  700.324,1401.05 708.135,1401.05 715.947,1401.05 723.759,1401.05 731.571,1401.05 739.382,1401.05 747.194,1401.05 755.006,1401.05 762.818,1401.05 770.629,1401.05 \n",
       "  778.441,1401.05 786.253,1401.05 794.064,1401.05 801.876,1401.05 809.688,1401.05 817.5,1401.05 825.311,1401.05 833.123,1401.05 840.935,1401.05 848.747,1401.05 \n",
       "  856.558,1401.05 864.37,1401.05 872.182,1401.05 879.994,1401.05 887.805,1401.05 895.617,1401.05 903.429,1401.05 911.241,1401.05 919.052,1401.05 926.864,1401.05 \n",
       "  934.676,1401.05 942.488,1401.05 950.299,1401.05 958.111,1401.05 965.923,1401.05 973.735,1401.05 981.546,1401.05 989.358,1401.05 997.17,1401.05 1004.98,1401.05 \n",
       "  1012.79,1401.05 1020.6,1401.05 1028.42,1401.05 1036.23,1401.05 1044.04,1401.05 1051.85,1401.05 1059.66,1401.05 1067.48,1401.05 1075.29,1401.05 1083.1,1401.05 \n",
       "  1090.91,1401.05 1098.72,1401.05 1106.53,1401.05 1114.35,1401.05 1122.16,1401.05 1129.97,1401.05 1137.78,1401.05 1145.59,1401.05 1153.4,1401.05 1161.22,1401.05 \n",
       "  1169.03,1401.05 1176.84,1401.05 1184.65,1401.05 1192.46,1401.05 1200.28,1401.05 1208.09,1401.05 1215.9,1401.05 1223.71,1401.05 1231.52,1401.05 1239.33,1401.05 \n",
       "  1247.15,1401.05 1254.96,1401.05 1262.77,1401.05 1270.58,1401.05 1278.39,1401.05 1286.2,1401.05 1294.02,86.6754 1301.83,86.6754 1309.64,86.6754 1317.45,86.6754 \n",
       "  1325.26,86.6754 1333.07,86.6754 1340.89,86.6754 1348.7,86.6754 1356.51,86.6754 1364.32,86.6754 1372.13,86.6754 1379.95,86.6754 1387.76,86.6754 1395.57,86.6754 \n",
       "  1403.38,86.6754 1411.19,86.6754 1419,86.6754 1426.82,86.6754 1434.63,86.6754 1442.44,86.6754 1450.25,86.6754 1458.06,86.6754 1465.87,86.6754 1473.69,86.6754 \n",
       "  1481.5,86.6754 1489.31,86.6754 1497.12,86.6754 1504.93,86.6754 1512.74,86.6754 1520.56,86.6754 1528.37,86.6754 1536.18,86.6754 1543.99,86.6754 1551.8,86.6754 \n",
       "  1559.62,86.6754 1567.43,86.6754 1575.24,86.6754 1583.05,86.6754 1590.86,86.6754 1598.67,86.6754 1606.49,86.6754 1614.3,86.6754 1622.11,86.6754 1629.92,86.6754 \n",
       "  1637.73,86.6754 1645.54,86.6754 1653.36,86.6754 1661.17,86.6754 1668.98,86.6754 1676.79,86.6754 1684.6,86.6754 1692.41,86.6754 1700.23,86.6754 1708.04,86.6754 \n",
       "  1715.85,86.6754 1723.66,86.6754 1731.47,86.6754 1739.29,86.6754 1747.1,86.6754 1754.91,86.6754 1762.72,86.6754 1770.53,86.6754 1778.34,86.6754 1786.16,86.6754 \n",
       "  1793.97,86.6754 1801.78,86.6754 1809.59,86.6754 1817.4,86.6754 1825.21,86.6754 1833.03,86.6754 1840.84,86.6754 1848.65,86.6754 1856.46,86.6754 1864.27,86.6754 \n",
       "  1872.08,86.6754 1879.9,86.6754 1887.71,86.6754 1895.52,86.6754 1903.33,86.6754 1911.14,86.6754 1918.96,86.6754 1926.77,86.6754 1934.58,86.6754 1942.39,86.6754 \n",
       "  1950.2,86.6754 1958.01,86.6754 1965.83,86.6754 1973.64,86.6754 1981.45,86.6754 1989.26,86.6754 1997.07,86.6754 2004.88,86.6754 2012.7,86.6754 2020.51,86.6754 \n",
       "  2028.32,86.6754 2036.13,86.6754 2043.94,86.6754 2051.75,86.6754 2059.57,86.6754 2067.38,86.6754 2075.19,86.6754 2083,86.6754 2090.81,86.6754 2098.63,86.6754 \n",
       "  2106.44,86.6754 2114.25,86.6754 2122.06,86.6754 2129.87,86.6754 2137.68,86.6754 2145.5,86.6754 2153.31,86.6754 2161.12,86.6754 2168.93,86.6754 2176.74,86.6754 \n",
       "  2184.55,86.6754 2192.37,86.6754 2200.18,86.6754 2207.99,86.6754 2215.8,86.6754 2223.61,86.6754 2231.42,86.6754 2239.24,86.6754 2247.05,86.6754 2254.86,86.6754 \n",
       "  2262.67,86.6754 \n",
       "  \"/>\n",
       "<polyline clip-path=\"url(#clip1702)\" style=\"stroke:#3da44d; stroke-width:4; stroke-opacity:1; fill:none\" points=\"\n",
       "  309.737,1401.05 317.548,1401.05 325.36,1401.05 333.172,1401.05 340.984,1401.05 348.795,1401.05 356.607,1401.05 364.419,1401.05 372.23,1401.05 380.042,1401.05 \n",
       "  387.854,1401.05 395.666,1401.05 403.477,1401.05 411.289,1401.05 419.101,1401.05 426.913,1401.05 434.724,1401.05 442.536,1401.05 450.348,1401.05 458.16,1401.05 \n",
       "  465.971,1401.05 473.783,1401.05 481.595,1401.05 489.407,1401.05 497.218,1401.05 505.03,1401.05 512.842,1401.05 520.654,1401.05 528.465,1401.05 536.277,1401.05 \n",
       "  544.089,1401.05 551.901,1401.05 559.712,1401.05 567.524,1401.05 575.336,1401.05 583.147,1401.05 590.959,1401.05 598.771,1401.05 606.583,1401.05 614.394,1401.05 \n",
       "  622.206,1401.05 630.018,1401.05 637.83,1401.05 645.641,1401.05 653.453,1401.05 661.265,1401.05 669.077,1401.05 676.888,1401.05 684.7,1401.05 692.512,1401.05 \n",
       "  700.324,1401.05 708.135,1401.05 715.947,1401.05 723.759,1401.05 731.571,1401.05 739.382,1401.05 747.194,1401.05 755.006,1401.05 762.818,1401.05 770.629,1401.05 \n",
       "  778.441,1401.05 786.253,1401.05 794.064,1401.05 801.876,1401.05 809.688,1401.05 817.5,1401.05 825.311,1401.05 833.123,1401.05 840.935,1401.05 848.747,1401.05 \n",
       "  856.558,1401.05 864.37,1401.05 872.182,1401.05 879.994,1401.05 887.805,1401.05 895.617,1401.05 903.429,1401.05 911.241,1401.05 919.052,1401.05 926.864,1401.05 \n",
       "  934.676,1401.05 942.488,1401.05 950.299,1401.05 958.111,1401.05 965.923,1401.05 973.735,1401.05 981.546,1401.05 989.358,1401.05 997.17,1401.05 1004.98,1401.05 \n",
       "  1012.79,1401.05 1020.6,1401.05 1028.42,1401.05 1036.23,1401.05 1044.04,1401.05 1051.85,1401.05 1059.66,1401.05 1067.48,1401.05 1075.29,1401.05 1083.1,1401.05 \n",
       "  1090.91,1401.05 1098.72,1401.05 1106.53,1401.05 1114.35,1401.05 1122.16,1401.05 1129.97,1401.05 1137.78,1401.05 1145.59,1401.05 1153.4,1401.05 1161.22,1401.05 \n",
       "  1169.03,1401.05 1176.84,1401.05 1184.65,1401.05 1192.46,1401.05 1200.28,1401.05 1208.09,1401.05 1215.9,1401.05 1223.71,1401.05 1231.52,1401.05 1239.33,1401.05 \n",
       "  1247.15,1401.05 1254.96,1401.05 1262.77,1401.05 1270.58,1401.05 1278.39,1401.05 1286.2,1401.05 1294.02,1388.43 1301.83,1375.82 1309.64,1363.2 1317.45,1350.58 \n",
       "  1325.26,1337.96 1333.07,1325.34 1340.89,1312.73 1348.7,1300.11 1356.51,1287.49 1364.32,1274.87 1372.13,1262.25 1379.95,1249.64 1387.76,1237.02 1395.57,1224.4 \n",
       "  1403.38,1211.78 1411.19,1199.16 1419,1186.55 1426.82,1173.93 1434.63,1161.31 1442.44,1148.69 1450.25,1136.07 1458.06,1123.46 1465.87,1110.84 1473.69,1098.22 \n",
       "  1481.5,1085.6 1489.31,1072.98 1497.12,1060.37 1504.93,1047.75 1512.74,1035.13 1520.56,1022.51 1528.37,1009.89 1536.18,997.275 1543.99,984.657 1551.8,972.039 \n",
       "  1559.62,959.421 1567.43,946.803 1575.24,934.185 1583.05,921.567 1590.86,908.949 1598.67,896.331 1606.49,883.713 1614.3,871.095 1622.11,858.477 1629.92,845.859 \n",
       "  1637.73,833.241 1645.54,820.623 1653.36,808.005 1661.17,795.387 1668.98,782.769 1676.79,770.151 1684.6,757.533 1692.41,744.915 1700.23,732.297 1708.04,719.679 \n",
       "  1715.85,707.061 1723.66,694.443 1731.47,681.825 1739.29,669.207 1747.1,656.589 1754.91,643.971 1762.72,631.353 1770.53,618.735 1778.34,606.117 1786.16,593.499 \n",
       "  1793.97,580.881 1801.78,568.263 1809.59,555.645 1817.4,543.027 1825.21,530.409 1833.03,517.791 1840.84,505.173 1848.65,492.555 1856.46,479.937 1864.27,467.319 \n",
       "  1872.08,454.701 1879.9,442.083 1887.71,429.465 1895.52,416.847 1903.33,404.229 1911.14,391.611 1918.96,378.993 1926.77,366.375 1934.58,353.757 1942.39,341.139 \n",
       "  1950.2,328.521 1958.01,315.903 1965.83,303.285 1973.64,290.667 1981.45,278.049 1989.26,265.431 1997.07,252.812 2004.88,240.194 2012.7,227.576 2020.51,214.958 \n",
       "  2028.32,202.34 2036.13,189.722 2043.94,177.104 2051.75,164.486 2059.57,151.868 2067.38,139.25 2075.19,126.632 2083,114.014 2090.81,101.396 2098.63,88.7784 \n",
       "  2106.44,86.6754 2114.25,86.6754 2122.06,86.6754 2129.87,86.6754 2137.68,86.6754 2145.5,86.6754 2153.31,86.6754 2161.12,86.6754 2168.93,86.6754 2176.74,86.6754 \n",
       "  2184.55,86.6754 2192.37,86.6754 2200.18,86.6754 2207.99,86.6754 2215.8,86.6754 2223.61,86.6754 2231.42,86.6754 2239.24,86.6754 2247.05,86.6754 2254.86,86.6754 \n",
       "  2262.67,86.6754 \n",
       "  \"/>\n",
       "<polygon clip-path=\"url(#clip1700)\" points=\"\n",
       "1792.61,372.684 2249.26,372.684 2249.26,130.764 1792.61,130.764 \n",
       "  \" fill=\"#ffffff\" fill-rule=\"evenodd\" fill-opacity=\"1\"/>\n",
       "<polyline clip-path=\"url(#clip1700)\" style=\"stroke:#000000; stroke-width:4; stroke-opacity:1; fill:none\" points=\"\n",
       "  1792.61,372.684 2249.26,372.684 2249.26,130.764 1792.61,130.764 1792.61,372.684 \n",
       "  \"/>\n",
       "<polyline clip-path=\"url(#clip1700)\" style=\"stroke:#009af9; stroke-width:4; stroke-opacity:1; fill:none\" points=\"\n",
       "  1816.61,191.244 1960.61,191.244 \n",
       "  \"/>\n",
       "<g clip-path=\"url(#clip1700)\">\n",
       "<text style=\"fill:#000000; fill-opacity:1; font-family:Arial,Helvetica Neue,Helvetica,sans-serif; font-size:48px; text-anchor:start;\" transform=\"rotate(0, 1984.61, 208.744)\" x=\"1984.61\" y=\"208.744\">EN</text>\n",
       "</g>\n",
       "<polyline clip-path=\"url(#clip1700)\" style=\"stroke:#e26f46; stroke-width:4; stroke-opacity:1; fill:none\" points=\"\n",
       "  1816.61,251.724 1960.61,251.724 \n",
       "  \"/>\n",
       "<g clip-path=\"url(#clip1700)\">\n",
       "<text style=\"fill:#000000; fill-opacity:1; font-family:Arial,Helvetica Neue,Helvetica,sans-serif; font-size:48px; text-anchor:start;\" transform=\"rotate(0, 1984.61, 269.224)\" x=\"1984.61\" y=\"269.224\">Furfine</text>\n",
       "</g>\n",
       "<polyline clip-path=\"url(#clip1700)\" style=\"stroke:#3da44d; stroke-width:4; stroke-opacity:1; fill:none\" points=\"\n",
       "  1816.61,312.204 1960.61,312.204 \n",
       "  \"/>\n",
       "<g clip-path=\"url(#clip1700)\">\n",
       "<text style=\"fill:#000000; fill-opacity:1; font-family:Arial,Helvetica Neue,Helvetica,sans-serif; font-size:48px; text-anchor:start;\" transform=\"rotate(0, 1984.61, 329.704)\" x=\"1984.61\" y=\"329.704\">Linear DR</text>\n",
       "</g>\n",
       "</svg>\n"
      ]
     },
     "execution_count": 4,
     "metadata": {},
     "output_type": "execute_result"
    }
   ],
   "source": [
    "equities = range(-3, length = 251, stop = 3)\n",
    "𝕍_EN = [EN.𝕍(EN, e, nothing)[1] for e in equities]\n",
    "𝕍_Furfine = [Furfine.𝕍(Furfine, e, nothing)[1] for e in equities]\n",
    "𝕍_LinearDR = [LinearDR.𝕍(LinearDR, e, [2.5])[1] for e in equities] # Note: A = 2.5 leads to book equity M = 2.5\n",
    "\n",
    "plt = plot(equities, 𝕍_EN, label = \"EN\",\n",
    "           xlabel = \"equity of the borrower\", ylabel = \"interbank valuation function\")\n",
    "plot!(plt, equities, 𝕍_Furfine, label = \"Furfine\")\n",
    "plot!(plt, equities, 𝕍_LinearDR, label = \"Linear DR\")"
   ]
  },
  {
   "cell_type": "markdown",
   "metadata": {},
   "source": [
    "Note that the valuation formula $\\mathbb{V}_{ij} = \\frac{E_j^+}{M_j}$ for the linear debt rank model is actually not correct in the paper as it can exceed one. In practice, this should not be a problem as a firms equity value $E_j$ never exceeds its book equity $M_j$. Here, values are clipped between 0 and 1 as in the accompanying code at https://github.com/marcobardoscia/neva"
   ]
  },
  {
   "cell_type": "markdown",
   "metadata": {},
   "source": [
    "Next, we replicate the left panel of figure 2.\n",
    "\n",
    "Note: The ex-ante version of the Eisenberg & Noe model is not yet implemented."
   ]
  },
  {
   "cell_type": "code",
   "execution_count": 5,
   "metadata": {},
   "outputs": [
    {
     "data": {
      "text/plain": [
       "3-element Array{NEVAModel,1}:\n",
       " Eisenberg & Noe model with N = 3 firms. \n",
       " Furfine model with N = 3 firms.         \n",
       " Linear Debt Rank model with N = 3 firms."
      ]
     },
     "execution_count": 5,
     "metadata": {},
     "output_type": "execute_result"
    }
   ],
   "source": [
    "# External liabilities\n",
    "Lᵉ = [9., 4., 2.]\n",
    "# Cross-holding matrix\n",
    "A = [0 0.5 0;\n",
    "     0 0 0.5;\n",
    "     0.5 0 0]\n",
    "# External asset values\n",
    "Aᵉ = [10., 5., 3.]\n",
    "\n",
    "models = [EisenbergNoeModel(Lᵉ, A'),\n",
    "          FurfineModel(Lᵉ, A', 0.0),\n",
    "          LinearDebtRankModel(Lᵉ, A')]"
   ]
  },
  {
   "cell_type": "markdown",
   "metadata": {},
   "source": [
    "Each model is then shocked by decreasing the external asset value by a factor $\\alpha$ and compute the impact on the equity value as in the paper, i.e.\n",
    "$$\n",
    "    \\frac{\\sum_i {\\Delta}E_i - {\\Delta}A^e_i}{\\sum_{ij} A_{ij}}\n",
    "$$\n",
    "where ${\\Delta}A^e = \\alpha A^e$."
   ]
  },
  {
   "cell_type": "code",
   "execution_count": 6,
   "metadata": {},
   "outputs": [
    {
     "data": {
      "text/plain": [
       "runshock (generic function with 1 method)"
      ]
     },
     "execution_count": 6,
     "metadata": {},
     "output_type": "execute_result"
    }
   ],
   "source": [
    "function runshock(model, Aᵉ, α)\n",
    "    E₀ = fixvalue(model, Aᵉ)\n",
    "    ΔAᵉ = α .* Aᵉ\n",
    "    ΔE  = E₀ .- fixvalue(model, Aᵉ .- ΔAᵉ)\n",
    "    sum(ΔE .- ΔAᵉ) / sum(model.A)\n",
    "end"
   ]
  },
  {
   "cell_type": "code",
   "execution_count": 7,
   "metadata": {},
   "outputs": [],
   "source": [
    "αs = range(0, length = 101, stop = 0.6)\n",
    "shocks = collect(runshock(model, Aᵉ, α)\n",
    "                 for α in αs,\n",
    "                     model in models);"
   ]
  },
  {
   "cell_type": "code",
   "execution_count": 8,
   "metadata": {},
   "outputs": [
    {
     "data": {
      "image/svg+xml": [
       "<?xml version=\"1.0\" encoding=\"utf-8\"?>\n",
       "<svg xmlns=\"http://www.w3.org/2000/svg\" xmlns:xlink=\"http://www.w3.org/1999/xlink\" width=\"600\" height=\"400\" viewBox=\"0 0 2400 1600\">\n",
       "<defs>\n",
       "  <clipPath id=\"clip2100\">\n",
       "    <rect x=\"0\" y=\"0\" width=\"2400\" height=\"1600\"/>\n",
       "  </clipPath>\n",
       "</defs>\n",
       "<polygon clip-path=\"url(#clip2100)\" points=\"\n",
       "0,1600 2400,1600 2400,0 0,0 \n",
       "  \" fill=\"#ffffff\" fill-rule=\"evenodd\" fill-opacity=\"1\"/>\n",
       "<defs>\n",
       "  <clipPath id=\"clip2101\">\n",
       "    <rect x=\"480\" y=\"0\" width=\"1681\" height=\"1600\"/>\n",
       "  </clipPath>\n",
       "</defs>\n",
       "<polygon clip-path=\"url(#clip2100)\" points=\"\n",
       "251.149,1440.48 2321.26,1440.48 2321.26,47.2441 251.149,47.2441 \n",
       "  \" fill=\"#ffffff\" fill-rule=\"evenodd\" fill-opacity=\"1\"/>\n",
       "<defs>\n",
       "  <clipPath id=\"clip2102\">\n",
       "    <rect x=\"251\" y=\"47\" width=\"2071\" height=\"1394\"/>\n",
       "  </clipPath>\n",
       "</defs>\n",
       "<polyline clip-path=\"url(#clip2102)\" style=\"stroke:#000000; stroke-width:2; stroke-opacity:0.1; fill:none\" points=\"\n",
       "  309.737,1440.48 309.737,47.2441 \n",
       "  \"/>\n",
       "<polyline clip-path=\"url(#clip2102)\" style=\"stroke:#000000; stroke-width:2; stroke-opacity:0.1; fill:none\" points=\"\n",
       "  635.226,1440.48 635.226,47.2441 \n",
       "  \"/>\n",
       "<polyline clip-path=\"url(#clip2102)\" style=\"stroke:#000000; stroke-width:2; stroke-opacity:0.1; fill:none\" points=\"\n",
       "  960.715,1440.48 960.715,47.2441 \n",
       "  \"/>\n",
       "<polyline clip-path=\"url(#clip2102)\" style=\"stroke:#000000; stroke-width:2; stroke-opacity:0.1; fill:none\" points=\"\n",
       "  1286.2,1440.48 1286.2,47.2441 \n",
       "  \"/>\n",
       "<polyline clip-path=\"url(#clip2102)\" style=\"stroke:#000000; stroke-width:2; stroke-opacity:0.1; fill:none\" points=\"\n",
       "  1611.69,1440.48 1611.69,47.2441 \n",
       "  \"/>\n",
       "<polyline clip-path=\"url(#clip2102)\" style=\"stroke:#000000; stroke-width:2; stroke-opacity:0.1; fill:none\" points=\"\n",
       "  1937.18,1440.48 1937.18,47.2441 \n",
       "  \"/>\n",
       "<polyline clip-path=\"url(#clip2102)\" style=\"stroke:#000000; stroke-width:2; stroke-opacity:0.1; fill:none\" points=\"\n",
       "  2262.67,1440.48 2262.67,47.2441 \n",
       "  \"/>\n",
       "<polyline clip-path=\"url(#clip2102)\" style=\"stroke:#000000; stroke-width:2; stroke-opacity:0.1; fill:none\" points=\"\n",
       "  251.149,1401.05 2321.26,1401.05 \n",
       "  \"/>\n",
       "<polyline clip-path=\"url(#clip2102)\" style=\"stroke:#000000; stroke-width:2; stroke-opacity:0.1; fill:none\" points=\"\n",
       "  251.149,1072.46 2321.26,1072.46 \n",
       "  \"/>\n",
       "<polyline clip-path=\"url(#clip2102)\" style=\"stroke:#000000; stroke-width:2; stroke-opacity:0.1; fill:none\" points=\"\n",
       "  251.149,743.863 2321.26,743.863 \n",
       "  \"/>\n",
       "<polyline clip-path=\"url(#clip2102)\" style=\"stroke:#000000; stroke-width:2; stroke-opacity:0.1; fill:none\" points=\"\n",
       "  251.149,415.269 2321.26,415.269 \n",
       "  \"/>\n",
       "<polyline clip-path=\"url(#clip2102)\" style=\"stroke:#000000; stroke-width:2; stroke-opacity:0.1; fill:none\" points=\"\n",
       "  251.149,86.6754 2321.26,86.6754 \n",
       "  \"/>\n",
       "<polyline clip-path=\"url(#clip2100)\" style=\"stroke:#000000; stroke-width:4; stroke-opacity:1; fill:none\" points=\"\n",
       "  251.149,1440.48 2321.26,1440.48 \n",
       "  \"/>\n",
       "<polyline clip-path=\"url(#clip2100)\" style=\"stroke:#000000; stroke-width:4; stroke-opacity:1; fill:none\" points=\"\n",
       "  251.149,1440.48 251.149,47.2441 \n",
       "  \"/>\n",
       "<polyline clip-path=\"url(#clip2100)\" style=\"stroke:#000000; stroke-width:4; stroke-opacity:1; fill:none\" points=\"\n",
       "  309.737,1440.48 309.737,1419.58 \n",
       "  \"/>\n",
       "<polyline clip-path=\"url(#clip2100)\" style=\"stroke:#000000; stroke-width:4; stroke-opacity:1; fill:none\" points=\"\n",
       "  635.226,1440.48 635.226,1419.58 \n",
       "  \"/>\n",
       "<polyline clip-path=\"url(#clip2100)\" style=\"stroke:#000000; stroke-width:4; stroke-opacity:1; fill:none\" points=\"\n",
       "  960.715,1440.48 960.715,1419.58 \n",
       "  \"/>\n",
       "<polyline clip-path=\"url(#clip2100)\" style=\"stroke:#000000; stroke-width:4; stroke-opacity:1; fill:none\" points=\"\n",
       "  1286.2,1440.48 1286.2,1419.58 \n",
       "  \"/>\n",
       "<polyline clip-path=\"url(#clip2100)\" style=\"stroke:#000000; stroke-width:4; stroke-opacity:1; fill:none\" points=\"\n",
       "  1611.69,1440.48 1611.69,1419.58 \n",
       "  \"/>\n",
       "<polyline clip-path=\"url(#clip2100)\" style=\"stroke:#000000; stroke-width:4; stroke-opacity:1; fill:none\" points=\"\n",
       "  1937.18,1440.48 1937.18,1419.58 \n",
       "  \"/>\n",
       "<polyline clip-path=\"url(#clip2100)\" style=\"stroke:#000000; stroke-width:4; stroke-opacity:1; fill:none\" points=\"\n",
       "  2262.67,1440.48 2262.67,1419.58 \n",
       "  \"/>\n",
       "<polyline clip-path=\"url(#clip2100)\" style=\"stroke:#000000; stroke-width:4; stroke-opacity:1; fill:none\" points=\"\n",
       "  251.149,1401.05 282.2,1401.05 \n",
       "  \"/>\n",
       "<polyline clip-path=\"url(#clip2100)\" style=\"stroke:#000000; stroke-width:4; stroke-opacity:1; fill:none\" points=\"\n",
       "  251.149,1072.46 282.2,1072.46 \n",
       "  \"/>\n",
       "<polyline clip-path=\"url(#clip2100)\" style=\"stroke:#000000; stroke-width:4; stroke-opacity:1; fill:none\" points=\"\n",
       "  251.149,743.863 282.2,743.863 \n",
       "  \"/>\n",
       "<polyline clip-path=\"url(#clip2100)\" style=\"stroke:#000000; stroke-width:4; stroke-opacity:1; fill:none\" points=\"\n",
       "  251.149,415.269 282.2,415.269 \n",
       "  \"/>\n",
       "<polyline clip-path=\"url(#clip2100)\" style=\"stroke:#000000; stroke-width:4; stroke-opacity:1; fill:none\" points=\"\n",
       "  251.149,86.6754 282.2,86.6754 \n",
       "  \"/>\n",
       "<g clip-path=\"url(#clip2100)\">\n",
       "<text style=\"fill:#000000; fill-opacity:1; font-family:Arial,Helvetica Neue,Helvetica,sans-serif; font-size:48px; text-anchor:middle;\" transform=\"rotate(0, 309.737, 1494.48)\" x=\"309.737\" y=\"1494.48\">0.0</text>\n",
       "</g>\n",
       "<g clip-path=\"url(#clip2100)\">\n",
       "<text style=\"fill:#000000; fill-opacity:1; font-family:Arial,Helvetica Neue,Helvetica,sans-serif; font-size:48px; text-anchor:middle;\" transform=\"rotate(0, 635.226, 1494.48)\" x=\"635.226\" y=\"1494.48\">0.1</text>\n",
       "</g>\n",
       "<g clip-path=\"url(#clip2100)\">\n",
       "<text style=\"fill:#000000; fill-opacity:1; font-family:Arial,Helvetica Neue,Helvetica,sans-serif; font-size:48px; text-anchor:middle;\" transform=\"rotate(0, 960.715, 1494.48)\" x=\"960.715\" y=\"1494.48\">0.2</text>\n",
       "</g>\n",
       "<g clip-path=\"url(#clip2100)\">\n",
       "<text style=\"fill:#000000; fill-opacity:1; font-family:Arial,Helvetica Neue,Helvetica,sans-serif; font-size:48px; text-anchor:middle;\" transform=\"rotate(0, 1286.2, 1494.48)\" x=\"1286.2\" y=\"1494.48\">0.3</text>\n",
       "</g>\n",
       "<g clip-path=\"url(#clip2100)\">\n",
       "<text style=\"fill:#000000; fill-opacity:1; font-family:Arial,Helvetica Neue,Helvetica,sans-serif; font-size:48px; text-anchor:middle;\" transform=\"rotate(0, 1611.69, 1494.48)\" x=\"1611.69\" y=\"1494.48\">0.4</text>\n",
       "</g>\n",
       "<g clip-path=\"url(#clip2100)\">\n",
       "<text style=\"fill:#000000; fill-opacity:1; font-family:Arial,Helvetica Neue,Helvetica,sans-serif; font-size:48px; text-anchor:middle;\" transform=\"rotate(0, 1937.18, 1494.48)\" x=\"1937.18\" y=\"1494.48\">0.5</text>\n",
       "</g>\n",
       "<g clip-path=\"url(#clip2100)\">\n",
       "<text style=\"fill:#000000; fill-opacity:1; font-family:Arial,Helvetica Neue,Helvetica,sans-serif; font-size:48px; text-anchor:middle;\" transform=\"rotate(0, 2262.67, 1494.48)\" x=\"2262.67\" y=\"1494.48\">0.6</text>\n",
       "</g>\n",
       "<g clip-path=\"url(#clip2100)\">\n",
       "<text style=\"fill:#000000; fill-opacity:1; font-family:Arial,Helvetica Neue,Helvetica,sans-serif; font-size:48px; text-anchor:end;\" transform=\"rotate(0, 227.149, 1418.55)\" x=\"227.149\" y=\"1418.55\">0.00</text>\n",
       "</g>\n",
       "<g clip-path=\"url(#clip2100)\">\n",
       "<text style=\"fill:#000000; fill-opacity:1; font-family:Arial,Helvetica Neue,Helvetica,sans-serif; font-size:48px; text-anchor:end;\" transform=\"rotate(0, 227.149, 1089.96)\" x=\"227.149\" y=\"1089.96\">0.25</text>\n",
       "</g>\n",
       "<g clip-path=\"url(#clip2100)\">\n",
       "<text style=\"fill:#000000; fill-opacity:1; font-family:Arial,Helvetica Neue,Helvetica,sans-serif; font-size:48px; text-anchor:end;\" transform=\"rotate(0, 227.149, 761.363)\" x=\"227.149\" y=\"761.363\">0.50</text>\n",
       "</g>\n",
       "<g clip-path=\"url(#clip2100)\">\n",
       "<text style=\"fill:#000000; fill-opacity:1; font-family:Arial,Helvetica Neue,Helvetica,sans-serif; font-size:48px; text-anchor:end;\" transform=\"rotate(0, 227.149, 432.769)\" x=\"227.149\" y=\"432.769\">0.75</text>\n",
       "</g>\n",
       "<g clip-path=\"url(#clip2100)\">\n",
       "<text style=\"fill:#000000; fill-opacity:1; font-family:Arial,Helvetica Neue,Helvetica,sans-serif; font-size:48px; text-anchor:end;\" transform=\"rotate(0, 227.149, 104.175)\" x=\"227.149\" y=\"104.175\">1.00</text>\n",
       "</g>\n",
       "<g clip-path=\"url(#clip2100)\">\n",
       "<text style=\"fill:#000000; fill-opacity:1; font-family:Arial,Helvetica Neue,Helvetica,sans-serif; font-size:66px; text-anchor:middle;\" transform=\"rotate(0, 1286.2, 1590.4)\" x=\"1286.2\" y=\"1590.4\">shock</text>\n",
       "</g>\n",
       "<g clip-path=\"url(#clip2100)\">\n",
       "<text style=\"fill:#000000; fill-opacity:1; font-family:Arial,Helvetica Neue,Helvetica,sans-serif; font-size:66px; text-anchor:middle;\" transform=\"rotate(-90, 128.749, 743.863)\" x=\"128.749\" y=\"743.863\">network contribution (relative to max)</text>\n",
       "</g>\n",
       "<polyline clip-path=\"url(#clip2102)\" style=\"stroke:#009af9; stroke-width:4; stroke-opacity:1; fill:none\" points=\"\n",
       "  309.737,1401.05 329.266,1401.05 348.795,1401.05 368.325,1401.05 387.854,1401.05 407.383,1401.05 426.913,1401.05 446.442,1401.05 465.971,1401.05 485.501,1401.05 \n",
       "  505.03,1401.05 524.559,1401.05 544.089,1401.05 563.618,1401.05 583.147,1401.05 602.677,1401.05 622.206,1401.05 641.736,1383.53 661.265,1330.95 680.794,1278.38 \n",
       "  700.324,1225.8 719.853,1173.23 739.382,1120.65 758.912,1068.08 778.441,1015.5 797.97,962.926 817.5,962.926 837.029,962.926 856.558,959.421 876.088,943.648 \n",
       "  895.617,927.876 915.146,912.103 934.676,864.786 954.205,806.953 973.735,749.121 993.264,691.288 1012.79,633.456 1032.32,575.623 1051.85,517.791 1071.38,459.958 \n",
       "  1090.91,402.126 1110.44,344.293 1129.97,300.481 1149.5,284.708 1169.03,268.936 1188.56,253.163 1208.09,237.39 1227.62,221.618 1247.15,205.845 1266.67,190.073 \n",
       "  1286.2,174.3 1305.73,158.528 1325.26,142.755 1344.79,126.983 1364.32,111.21 1383.85,95.4379 1403.38,86.6754 1422.91,86.6754 1442.44,86.6754 1461.97,86.6754 \n",
       "  1481.5,86.6754 1501.03,86.6754 1520.56,86.6754 1540.09,86.6754 1559.62,86.6754 1579.14,86.6754 1598.67,86.6754 1618.2,86.6754 1637.73,86.6754 1657.26,86.6754 \n",
       "  1676.79,86.6754 1696.32,86.6754 1715.85,86.6754 1735.38,86.6754 1754.91,86.6754 1774.44,86.6754 1793.97,86.6754 1813.5,86.6754 1833.03,86.6754 1852.56,86.6754 \n",
       "  1872.08,86.6754 1891.61,86.6754 1911.14,86.6754 1930.67,86.6754 1950.2,86.6754 1969.73,86.6754 1989.26,86.6754 2008.79,86.6754 2028.32,86.6754 2047.85,86.6754 \n",
       "  2067.38,86.6754 2086.91,86.6754 2106.44,86.6754 2125.97,86.6754 2145.5,86.6754 2165.03,86.6754 2184.55,86.6754 2204.08,86.6754 2223.61,86.6754 2243.14,86.6754 \n",
       "  2262.67,86.6754 \n",
       "  \"/>\n",
       "<polyline clip-path=\"url(#clip2102)\" style=\"stroke:#e26f46; stroke-width:4; stroke-opacity:1; fill:none\" points=\"\n",
       "  309.737,1401.05 329.266,1401.05 348.795,1401.05 368.325,1401.05 387.854,1401.05 407.383,1401.05 426.913,1401.05 446.442,1401.05 465.971,1401.05 485.501,1401.05 \n",
       "  505.03,1401.05 524.559,1401.05 544.089,1401.05 563.618,1401.05 583.147,1401.05 602.677,1401.05 622.206,1401.05 641.736,962.926 661.265,962.926 680.794,962.926 \n",
       "  700.324,962.926 719.853,962.926 739.382,962.926 758.912,962.926 778.441,962.926 797.97,962.926 817.5,962.926 837.029,962.926 856.558,86.6754 876.088,86.6754 \n",
       "  895.617,86.6754 915.146,86.6754 934.676,86.6754 954.205,86.6754 973.735,86.6754 993.264,86.6754 1012.79,86.6754 1032.32,86.6754 1051.85,86.6754 1071.38,86.6754 \n",
       "  1090.91,86.6754 1110.44,86.6754 1129.97,86.6754 1149.5,86.6754 1169.03,86.6754 1188.56,86.6754 1208.09,86.6754 1227.62,86.6754 1247.15,86.6754 1266.67,86.6754 \n",
       "  1286.2,86.6754 1305.73,86.6754 1325.26,86.6754 1344.79,86.6754 1364.32,86.6754 1383.85,86.6754 1403.38,86.6754 1422.91,86.6754 1442.44,86.6754 1461.97,86.6754 \n",
       "  1481.5,86.6754 1501.03,86.6754 1520.56,86.6754 1540.09,86.6754 1559.62,86.6754 1579.14,86.6754 1598.67,86.6754 1618.2,86.6754 1637.73,86.6754 1657.26,86.6754 \n",
       "  1676.79,86.6754 1696.32,86.6754 1715.85,86.6754 1735.38,86.6754 1754.91,86.6754 1774.44,86.6754 1793.97,86.6754 1813.5,86.6754 1833.03,86.6754 1852.56,86.6754 \n",
       "  1872.08,86.6754 1891.61,86.6754 1911.14,86.6754 1930.67,86.6754 1950.2,86.6754 1969.73,86.6754 1989.26,86.6754 2008.79,86.6754 2028.32,86.6754 2047.85,86.6754 \n",
       "  2067.38,86.6754 2086.91,86.6754 2106.44,86.6754 2125.97,86.6754 2145.5,86.6754 2165.03,86.6754 2184.55,86.6754 2204.08,86.6754 2223.61,86.6754 2243.14,86.6754 \n",
       "  2262.67,86.6754 \n",
       "  \"/>\n",
       "<polyline clip-path=\"url(#clip2102)\" style=\"stroke:#3da44d; stroke-width:4; stroke-opacity:1; fill:none\" points=\"\n",
       "  309.737,1401.05 329.266,1401.05 348.795,1401.05 368.325,1401.05 387.854,1401.05 407.383,1401.05 426.913,1401.05 446.442,1401.05 465.971,1401.05 485.501,1401.05 \n",
       "  505.03,1401.05 524.559,1401.05 544.089,1401.05 563.618,442.532 583.147,417.592 602.677,390.035 622.206,359.415 641.736,325.18 661.265,286.633 680.794,242.885 \n",
       "  700.324,192.784 719.853,172.61 739.382,162.114 758.912,150.974 778.441,139.127 797.97,126.505 817.5,113.029 837.029,98.6088 856.558,86.6754 876.088,86.6754 \n",
       "  895.617,86.6754 915.146,86.6754 934.676,86.6754 954.205,86.6754 973.735,86.6754 993.264,86.6754 1012.79,86.6754 1032.32,86.6754 1051.85,86.6754 1071.38,86.6754 \n",
       "  1090.91,86.6754 1110.44,86.6754 1129.97,86.6754 1149.5,86.6754 1169.03,86.6754 1188.56,86.6754 1208.09,86.6754 1227.62,86.6754 1247.15,86.6754 1266.67,86.6754 \n",
       "  1286.2,86.6754 1305.73,86.6754 1325.26,86.6754 1344.79,86.6754 1364.32,86.6754 1383.85,86.6754 1403.38,86.6754 1422.91,86.6754 1442.44,86.6754 1461.97,86.6754 \n",
       "  1481.5,86.6754 1501.03,86.6754 1520.56,86.6754 1540.09,86.6754 1559.62,86.6754 1579.14,86.6754 1598.67,86.6754 1618.2,86.6754 1637.73,86.6754 1657.26,86.6754 \n",
       "  1676.79,86.6754 1696.32,86.6754 1715.85,86.6754 1735.38,86.6754 1754.91,86.6754 1774.44,86.6754 1793.97,86.6754 1813.5,86.6754 1833.03,86.6754 1852.56,86.6754 \n",
       "  1872.08,86.6754 1891.61,86.6754 1911.14,86.6754 1930.67,86.6754 1950.2,86.6754 1969.73,86.6754 1989.26,86.6754 2008.79,86.6754 2028.32,86.6754 2047.85,86.6754 \n",
       "  2067.38,86.6754 2086.91,86.6754 2106.44,86.6754 2125.97,86.6754 2145.5,86.6754 2165.03,86.6754 2184.55,86.6754 2204.08,86.6754 2223.61,86.6754 2243.14,86.6754 \n",
       "  2262.67,86.6754 \n",
       "  \"/>\n",
       "<polygon clip-path=\"url(#clip2100)\" points=\"\n",
       "1792.61,372.684 2249.26,372.684 2249.26,130.764 1792.61,130.764 \n",
       "  \" fill=\"#ffffff\" fill-rule=\"evenodd\" fill-opacity=\"1\"/>\n",
       "<polyline clip-path=\"url(#clip2100)\" style=\"stroke:#000000; stroke-width:4; stroke-opacity:1; fill:none\" points=\"\n",
       "  1792.61,372.684 2249.26,372.684 2249.26,130.764 1792.61,130.764 1792.61,372.684 \n",
       "  \"/>\n",
       "<polyline clip-path=\"url(#clip2100)\" style=\"stroke:#009af9; stroke-width:4; stroke-opacity:1; fill:none\" points=\"\n",
       "  1816.61,191.244 1960.61,191.244 \n",
       "  \"/>\n",
       "<g clip-path=\"url(#clip2100)\">\n",
       "<text style=\"fill:#000000; fill-opacity:1; font-family:Arial,Helvetica Neue,Helvetica,sans-serif; font-size:48px; text-anchor:start;\" transform=\"rotate(0, 1984.61, 208.744)\" x=\"1984.61\" y=\"208.744\">EN</text>\n",
       "</g>\n",
       "<polyline clip-path=\"url(#clip2100)\" style=\"stroke:#e26f46; stroke-width:4; stroke-opacity:1; fill:none\" points=\"\n",
       "  1816.61,251.724 1960.61,251.724 \n",
       "  \"/>\n",
       "<g clip-path=\"url(#clip2100)\">\n",
       "<text style=\"fill:#000000; fill-opacity:1; font-family:Arial,Helvetica Neue,Helvetica,sans-serif; font-size:48px; text-anchor:start;\" transform=\"rotate(0, 1984.61, 269.224)\" x=\"1984.61\" y=\"269.224\">Furfine</text>\n",
       "</g>\n",
       "<polyline clip-path=\"url(#clip2100)\" style=\"stroke:#3da44d; stroke-width:4; stroke-opacity:1; fill:none\" points=\"\n",
       "  1816.61,312.204 1960.61,312.204 \n",
       "  \"/>\n",
       "<g clip-path=\"url(#clip2100)\">\n",
       "<text style=\"fill:#000000; fill-opacity:1; font-family:Arial,Helvetica Neue,Helvetica,sans-serif; font-size:48px; text-anchor:start;\" transform=\"rotate(0, 1984.61, 329.704)\" x=\"1984.61\" y=\"329.704\">Linear DR</text>\n",
       "</g>\n",
       "</svg>\n"
      ]
     },
     "execution_count": 8,
     "metadata": {},
     "output_type": "execute_result"
    }
   ],
   "source": [
    "plot(αs, shocks, label = [\"EN\", \"Furfine\", \"Linear DR\"],\n",
    "     xlabel = \"shock\", ylabel = \"network contribution (relative to max)\")"
   ]
  },
  {
   "cell_type": "markdown",
   "metadata": {},
   "source": [
    "Again, the curve for the linear debt rank model looks different from the one in the paper. The reason might be that the valuation formula does not appear right when the book equity $M$ becomes negative!\n",
    "\n",
    "TODO: Investigate that and fix formula."
   ]
  },
  {
   "cell_type": "markdown",
   "metadata": {},
   "source": [
    "## Examples from our paper\n",
    "\n",
    "Here, we replicate some of the figures from the paper\n",
    "\n",
    "Nils Bertschinger and Julian Stobbe, *Systemic Greeks: Measuring risk in financial networks*, arXiv:1810.11849, 2018."
   ]
  },
  {
   "cell_type": "markdown",
   "metadata": {},
   "source": [
    "### Single firm examples\n",
    "\n",
    "We start with figure 1 and define a model with a single firm and self cross-holdings of strength $w^s$ and $w^d$ for equity and debt respectively."
   ]
  },
  {
   "cell_type": "code",
   "execution_count": null,
   "metadata": {},
   "outputs": [],
   "source": [
    "wˢ = 0.2\n",
    "wᵈ = 0.4\n",
    "singleFirm = XOSModel(wˢ .* ones(1,1), wᵈ .* ones(1,1), I, [1.0])"
   ]
  },
  {
   "cell_type": "markdown",
   "metadata": {},
   "source": [
    "The self-consistent values at maturity across different external asset values are readily computed as the fixed point of the network valuation."
   ]
  },
  {
   "cell_type": "code",
   "execution_count": null,
   "metadata": {},
   "outputs": [],
   "source": [
    "extA = range(0, length = 51, stop = 1.5)\n",
    "vals = [fixvalue(singleFirm, [a]) for a in extA]\n",
    "\n",
    "plt = plot(extA, map(sum, vals), label = \"Value\",\n",
    "           xlabel = \"External asset\")\n",
    "plot!(plt, extA, map(v -> sum(equityview(singleFirm, v)), vals), label = \"Equity\")\n",
    "plot!(plt, extA, map(v -> sum(debtview(singleFirm, v)), vals), label = \"Debt\")"
   ]
  },
  {
   "cell_type": "markdown",
   "metadata": {},
   "source": [
    "Figure 2 shows the corresponding ex-ante values. These are defined as the risk-neutral expectation of the values at maturity.\n",
    "\n",
    "We need to fix parameters for the Black-Scholes world modeling stochastic asset prices. Then, we compute the required expectations. Again we transform standard normal random variates $Z$ to asset prices $A_\\tau$ which are then log-normally distributed. "
   ]
  },
  {
   "cell_type": "code",
   "execution_count": null,
   "metadata": {},
   "outputs": [],
   "source": [
    "θ = BlackScholesParams(0.0, 1.0, 0.4)\n",
    "\n",
    "function exante_val(net, a₀, θ)\n",
    "    expectation(Z -> discount(θ) .* fixvalue(net, Aτ(a₀, θ, Z)),\n",
    "                MonteCarloSampler(MvNormal(numfirms(net), 1.0)),\n",
    "                7500)\n",
    "end"
   ]
  },
  {
   "cell_type": "code",
   "execution_count": null,
   "metadata": {},
   "outputs": [],
   "source": [
    "@time eavals = [exante_val(singleFirm, a, θ) for a in extA]\n",
    "\n",
    "plt = plot(extA, map(sum, eavals), label = \"Value\",\n",
    "           xlabel = \"External asset\")\n",
    "plot!(plt, extA, map(v -> sum(equityview(singleFirm, v)), eavals), label = \"Equity\")\n",
    "plot!(plt, extA, map(v -> sum(debtview(singleFirm, v)), eavals), label = \"Debt\")"
   ]
  },
  {
   "cell_type": "markdown",
   "metadata": {},
   "source": [
    "Similarly we can compute the Greeks.\n",
    "\n",
    "To this end, we use the index convention that these are stored in a matrix with the following format:\n",
    "\n",
    "$$ \n",
    "\\left( \\begin{array}{llll} \\Delta_{\\mathtt{Equity}} & \\mathcal{V}_{\\mathtt{Equity}} & \\Theta_{\\mathtt{Equity}} & \\rho_{\\mathtt{Equity}} \\\\\n",
    "\\Delta_{\\mathtt{Debt}} & \\mathcal{V}_{\\mathtt{Debt}} & \\Theta_{\\mathtt{Debt}} & \\rho_{\\mathtt{Debt}}\n",
    "\\end{array} \\right)\n",
    "$$\n",
    "\n",
    "The corresponding function, defined below, is reused later on larger networks."
   ]
  },
  {
   "cell_type": "code",
   "execution_count": null,
   "metadata": {},
   "outputs": [],
   "source": [
    "function calc_greeks(net, a₀, θ, Z)\n",
    "    N = numfirms(net)\n",
    "    @assert length(a₀) == N\n",
    "\n",
    "    A = Aτ(a₀, θ, Z)\n",
    "    x = fixvalue(net, A)\n",
    "    dVdA = fixjacobian(net, A, x)\n",
    "    ## Note the use of AutoDiff\n",
    "    dAdg = ForwardDiff.jacobian(g -> Aτ(g[1:N],\n",
    "                                        BlackScholesParams(g[N+3], g[N+2], g[N+1]),\n",
    "                                        Z),\n",
    "                                vcat(a₀, θ.σ, θ.τ, θ.r))\n",
    "\n",
    "    ## Formula (43) from the paper (second term in expectation)\n",
    "    dVdg = discount(θ) .* dVdA * dAdg\n",
    "    ## Store it in desired format\n",
    "    greeks = Matrix{eltype(dVdg)}(undef, 2*N, 4)\n",
    "    greeks[:, 1] .= vec(sum(view(dVdg, :, 1:N); dims = 2)) ## Total Delta over all price shocks\n",
    "    greeks[:, 2] .= view(dVdg, :, N+1)\n",
    "    ## Theta and rho have an additional contribution (first term of eq. (43)) \n",
    "    greeks[:, 3] .= .- (view(dVdg, :, N+2) .- θ.r .* discount(θ) .* x) ## Note sign convention for Theta\n",
    "    greeks[:, 4] .= view(dVdg, :, N+3) .- θ.τ .* discount(θ) .* x\n",
    "\n",
    "    greeks\n",
    "end"
   ]
  },
  {
   "cell_type": "code",
   "execution_count": null,
   "metadata": {},
   "outputs": [],
   "source": [
    "@time greeks = [expectation(Z -> calc_greeks(singleFirm, [a], θ, Z),\n",
    "                            MonteCarloSampler(MvNormal(1, 1.0)),\n",
    "                            7500)\n",
    "                for a in extA];"
   ]
  },
  {
   "cell_type": "code",
   "execution_count": null,
   "metadata": {},
   "outputs": [],
   "source": [
    "function plotvsextA(net, extA, greeks, what = :Δ)\n",
    "    idx = Dict(:Δ => 1, :V => 2, :Θ => 3, :ρ => 4)\n",
    "    plt = plot(extA, map(g -> mean(equityview(net, g[:, idx[what]]) .+ debtview(net, g[:, idx[what]])), greeks), label = \"Value\",\n",
    "               xlabel = \"External asset\")\n",
    "    plot!(plt, extA, map(g -> mean(equityview(net, g[:, idx[what]])), greeks), label = \"Equity\")\n",
    "    plot!(plt, extA, map(g -> mean(debtview(net, g[:, idx[what]])), greeks), label = \"Debt\")\n",
    "    plt\n",
    "end"
   ]
  },
  {
   "cell_type": "code",
   "execution_count": null,
   "metadata": {},
   "outputs": [],
   "source": [
    "plts = [plotvsextA(singleFirm, extA, greeks, what) for what in [:Δ, :V, :Θ, :ρ]]\n",
    "plot(plts..., layout = (2, 2))"
   ]
  },
  {
   "cell_type": "markdown",
   "metadata": {},
   "source": [
    "Note that figures 1-3 of the paper use analytic formulas for the single firm case. This is not only faster, but also free of Monte-Carlo errors. Yet, it is a nice sanity check that the numerical results reproduce the corresponding part of figure 3 as well."
   ]
  },
  {
   "cell_type": "markdown",
   "metadata": {},
   "source": [
    "### Network examples\n",
    "\n",
    "#### Two firm example\n",
    "\n",
    "Figure 4 is actually itself a replication of figure 6 of the paper\n",
    "\n",
    "Sabine Karl and Tom Fischer, *Cross-ownership as a structural explanation for over- and underestimation of default probability*, Quantitative Finance, 14:6, 2014.\n",
    "\n",
    "We fix parameters and create the two firms network."
   ]
  },
  {
   "cell_type": "code",
   "execution_count": null,
   "metadata": {},
   "outputs": [],
   "source": [
    "θ = BlackScholesParams(0.0, 1.0, 1.0)\n",
    "a₀ = [1.0, 1.0]\n",
    "twoFirms = XOSModel(spzeros(2, 2), [0.0 0.95; 0.95 0.0], I, [11.3, 11.3])"
   ]
  },
  {
   "cell_type": "code",
   "execution_count": null,
   "metadata": {},
   "outputs": [],
   "source": [
    "Z = rand(MvNormal(2, 1.0), 750)\n",
    "A = mapslices(z -> Aτ(a₀, θ, z), Z; dims = 1)\n",
    "X = mapslices(a -> fixvalue(twoFirms, a), A; dims = 1)\n",
    "sol = mapslices(x -> solvent(twoFirms, x), X; dims = 1)\n",
    "V = mapslices(x -> equityview(twoFirms, x) .+ debtview(twoFirms, x), X; dims = 1)"
   ]
  },
  {
   "cell_type": "markdown",
   "metadata": {},
   "source": [
    "Coloring by the solvency of both firms, we can replicate our figure."
   ]
  },
  {
   "cell_type": "code",
   "execution_count": null,
   "metadata": {},
   "outputs": [],
   "source": [
    "cols = sol[1,:] .+ 2.0 .* sol[2,:]; ## Convert solvencies to different numbers"
   ]
  },
  {
   "cell_type": "code",
   "execution_count": null,
   "metadata": {},
   "outputs": [],
   "source": [
    "plot(scatter(A[1, :], A[2, :], zcolor = cols, scale = :log10),\n",
    "     scatter(V[1, :], V[2, :], zcolor = cols, scale = :log10))"
   ]
  },
  {
   "cell_type": "markdown",
   "metadata": {},
   "source": [
    "As in Karl and Fischer (2014) we can fit a log-normal to the values and plot samples from it. This replicates their figure."
   ]
  },
  {
   "cell_type": "code",
   "execution_count": null,
   "metadata": {},
   "outputs": [],
   "source": [
    "dist = fit_mle(MvNormal, log.(V)) # Quick and dirty log-normal fit\n",
    "S = exp.(rand(dist, 1000))\n",
    "solS = mapslices(s -> s .> twoFirms.d, S; dims = 1)\n",
    "\n",
    "plot(scatter(V[1, :], V[2, :], zcolor = cols),\n",
    "     scatter(S[1, :], S[2, :], zcolor = solS[1,:] .+ 2.0 .* solS[2,:]))"
   ]
  },
  {
   "cell_type": "markdown",
   "metadata": {},
   "source": [
    "#### Erdos-Renyi networks\n",
    "\n",
    "Figure 5, 6 and 7 use Erdos-Renyi random graphs. In figure 5 we show different network statistics over initial asset values $a_0$ for several average connectivities $<k>$. In particular, we compute equity value, debt value, total value $= \\mathtt{equity} + \\mathtt{debt}$, default probability, capital ratio $= \\frac{\\mathtt{equity}}{\\mathtt{equity} + \\mathtt{debt}}$ and fraction of external assets $= \\frac{A_{\\tau}}{\\mathtt{equity} + \\mathtt{debt}}$."
   ]
  },
  {
   "cell_type": "code",
   "execution_count": null,
   "metadata": {},
   "outputs": [],
   "source": [
    "function figure5(N, wᵈ, what)\n",
    "    a₀ = range(0, length = 21, stop = 2.5)\n",
    "    kavg = [0.25, 0.5, 0.75, 1.0, 1.5, 2.5, 4.0]\n",
    "    θ = BlackScholesParams(0.0, 1.0, 0.4)\n",
    "\n",
    "    plt = plot()\n",
    "    for k in kavg\n",
    "        net = XOSModel(spzeros(N, N),\n",
    "                       rescale(erdosrenyi(N, k / N), wᵈ),\n",
    "                       I, ones(N))\n",
    "        funcs = Dict(:Equity  => x -> equityview(net, x),\n",
    "                     :Debt    => x -> debtview(net, x),\n",
    "                     :Total   => x -> equityview(net, x) .+ debtview(net, x),\n",
    "                     :Default => x -> solvent(net, x),\n",
    "                     :Capital => x -> equityview(net, x) ./ (equityview(net, x) .+ debtview(net, x)))\n",
    "        ## Note: Fraction of external assets not shown here.\n",
    "        ##       Think about how you could support it ... needs external asset values as well.\n",
    "    \n",
    "        vals = [expectation(z -> funcs[what](fixvalue(net, Aτ(a, θ, z))),\n",
    "                            MonteCarloSampler(MvNormal(N, 1.0)),\n",
    "                            2500)\n",
    "                for a in a₀]\n",
    "        plot!(plt, a₀, map(mean, vals), label = string(\"k_avg = \", k))\n",
    "    end\n",
    "    plt\n",
    "end"
   ]
  },
  {
   "cell_type": "code",
   "execution_count": null,
   "metadata": {},
   "outputs": [],
   "source": [
    "@time figure5(60, 0.4, :Debt)"
   ]
  },
  {
   "cell_type": "markdown",
   "metadata": {},
   "source": [
    "Figure 6 shows the network Greeks. We reuse the function calc_greeks defined above to simplify computations here."
   ]
  },
  {
   "cell_type": "code",
   "execution_count": null,
   "metadata": {},
   "outputs": [],
   "source": [
    "function figure6data(N, kavg, wᵈ)\n",
    "    a₀ = range(0, length = 31, stop = 2.5)\n",
    "    nextnet = calm(() -> XOSModel(spzeros(N, N),\n",
    "                                  rescale(erdosrenyi(N, kavg / N), wᵈ),\n",
    "                                  I, ones(N)),\n",
    "                   1000) # Draw new network each thousand samples\n",
    "    greeks = [expectation(Z -> calc_greeks(nextnet(), a .* ones(N), θ, Z),\n",
    "                          MonteCarloSampler(MvNormal(1, 1.0)),\n",
    "                          25000)\n",
    "              for a in a₀]\n",
    "    nextnet(), a₀, greeks\n",
    "end\n",
    "\n",
    "N = 60\n",
    "@time netER, extAER, greeksER = figure6data(N, 1.2, 0.4);"
   ]
  },
  {
   "cell_type": "code",
   "execution_count": null,
   "metadata": {},
   "outputs": [],
   "source": [
    "function figure6(net, extA, greeks, what = :Delta)\n",
    "    idx = Dict(:Δ => 1, :V => 2, :Θ => 3, :ρ => 4)\n",
    "    plt = plot(extA, map(g -> mean(equityview(net, g[:, idx[what]]) .+ debtview(net, g[:, idx[what]])), greeks), label = \"Value\",\n",
    "               xlabel = \"External asset\")\n",
    "    plot!(plt, extA, map(g -> mean(equityview(net, g[:, idx[what]])), greeks), label = \"Equity\")\n",
    "    plot!(plt, extA, map(g -> mean(debtview(net, g[:, idx[what]])), greeks), label = \"Debt\")\n",
    "    plt\n",
    "end\n",
    "\n",
    "figure6(netER, extAER, greeksER, :Δ)"
   ]
  },
  {
   "cell_type": "code",
   "execution_count": null,
   "metadata": {},
   "outputs": [],
   "source": []
  }
 ],
 "metadata": {
  "@webio": {
   "lastCommId": "2922a4516f6546668eea97124b15518c",
   "lastKernelId": "c3944b9a-cfa9-4ba9-98ed-fbdb8d7ef709"
  },
  "kernelspec": {
   "display_name": "Julia 1.1.0",
   "language": "julia",
   "name": "julia-1.1"
  },
  "language_info": {
   "file_extension": ".jl",
   "mimetype": "application/julia",
   "name": "julia",
   "version": "1.1.0"
  }
 },
 "nbformat": 4,
 "nbformat_minor": 2
}
