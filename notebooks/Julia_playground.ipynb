{
 "cells": [
  {
   "cell_type": "code",
   "execution_count": 1,
   "metadata": {},
   "outputs": [],
   "source": [
    "using FinNetValu"
   ]
  },
  {
   "cell_type": "code",
   "execution_count": 5,
   "metadata": {},
   "outputs": [
    {
     "name": "stdout",
     "output_type": "stream",
     "text": [
      "search: \u001b[0m\u001b[1me\u001b[22m\u001b[0m\u001b[1mr\u001b[22m\u001b[0m\u001b[1md\u001b[22m\u001b[0m\u001b[1mo\u001b[22m\u001b[0m\u001b[1ms\u001b[22m\u001b[0m\u001b[1mr\u001b[22m\u001b[0m\u001b[1me\u001b[22m\u001b[0m\u001b[1mn\u001b[22m\u001b[0m\u001b[1my\u001b[22m\u001b[0m\u001b[1mi\u001b[22m\n",
      "\n"
     ]
    },
    {
     "data": {
      "text/latex": [
       "\\begin{verbatim}\n",
       "erdosrenyi(N, p, directed)\n",
       "\\end{verbatim}\n",
       "Generate random adjacency matrix from Erdos-Renyi random graph ensemble with \\texttt{N} nodes and connection probability \\texttt{p}. The network is directed by default.\n",
       "\n"
      ],
      "text/markdown": [
       "```\n",
       "erdosrenyi(N, p, directed)\n",
       "```\n",
       "\n",
       "Generate random adjacency matrix from Erdos-Renyi random graph ensemble with `N` nodes and connection probability `p`. The network is directed by default.\n"
      ],
      "text/plain": [
       "\u001b[36m  erdosrenyi(N, p, directed)\u001b[39m\n",
       "\n",
       "  Generate random adjacency matrix from Erdos-Renyi random graph ensemble with\n",
       "  \u001b[36mN\u001b[39m nodes and connection probability \u001b[36mp\u001b[39m. The network is directed by default."
      ]
     },
     "execution_count": 5,
     "metadata": {},
     "output_type": "execute_result"
    }
   ],
   "source": [
    "?erdosrenyi"
   ]
  },
  {
   "cell_type": "code",
   "execution_count": 21,
   "metadata": {},
   "outputs": [
    {
     "ename": "ArgumentError",
     "evalue": "ArgumentError: p <= 1.0 must hold. Got\np => 1.2",
     "output_type": "error",
     "traceback": [
      "ArgumentError: p <= 1.0 must hold. Got\np => 1.2",
      "",
      "Stacktrace:",
      " [1] erdosrenyi(::Int64, ::Float64, ::Bool) at /home/mo/.julia/packages/ArgCheck/xX4DA/src/checks.jl:165",
      " [2] top-level scope at In[21]:1"
     ]
    }
   ],
   "source": [
    "erdosrenyi(5, 1.2, true)"
   ]
  },
  {
   "cell_type": "code",
   "execution_count": 15,
   "metadata": {},
   "outputs": [],
   "source": [
    "using SparseArrays"
   ]
  },
  {
   "cell_type": "code",
   "execution_count": 17,
   "metadata": {},
   "outputs": [
    {
     "data": {
      "text/plain": [
       "3×3 SparseMatrixCSC{Float64,Int64} with 0 stored entries"
      ]
     },
     "execution_count": 17,
     "metadata": {},
     "output_type": "execute_result"
    }
   ],
   "source": [
    "z = spzeros(3,3)"
   ]
  },
  {
   "cell_type": "code",
   "execution_count": 18,
   "metadata": {},
   "outputs": [
    {
     "data": {
      "text/plain": [
       "1.0"
      ]
     },
     "execution_count": 18,
     "metadata": {},
     "output_type": "execute_result"
    }
   ],
   "source": [
    "z[1,1] = 1.0"
   ]
  },
  {
   "cell_type": "code",
   "execution_count": 19,
   "metadata": {},
   "outputs": [
    {
     "data": {
      "text/plain": [
       "3×3 SparseMatrixCSC{Float64,Int64} with 1 stored entry:\n",
       "  [1, 1]  =  1.0"
      ]
     },
     "execution_count": 19,
     "metadata": {},
     "output_type": "execute_result"
    }
   ],
   "source": [
    "z"
   ]
  },
  {
   "cell_type": "code",
   "execution_count": 22,
   "metadata": {},
   "outputs": [
    {
     "name": "stdout",
     "output_type": "stream",
     "text": [
      "search: \u001b[0m\u001b[1mf\u001b[22m\u001b[0m\u001b[1mi\u001b[22m\u001b[0m\u001b[1mn\u001b[22m\u001b[0m\u001b[1md\u001b[22m\u001b[0m\u001b[1ma\u001b[22m\u001b[0m\u001b[1ml\u001b[22m\u001b[0m\u001b[1ml\u001b[22m \u001b[0m\u001b[1mf\u001b[22m\u001b[0m\u001b[1mi\u001b[22m\u001b[0m\u001b[1mn\u001b[22m\u001b[0m\u001b[1md\u001b[22mm\u001b[0m\u001b[1ma\u001b[22mx! \u001b[0m\u001b[1mf\u001b[22m\u001b[0m\u001b[1mi\u001b[22m\u001b[0m\u001b[1mn\u001b[22m\u001b[0m\u001b[1md\u001b[22mm\u001b[0m\u001b[1ma\u001b[22mx \u001b[0m\u001b[1mf\u001b[22m\u001b[0m\u001b[1mi\u001b[22m\u001b[0m\u001b[1mn\u001b[22m\u001b[0m\u001b[1md\u001b[22ml\u001b[0m\u001b[1ma\u001b[22mst\n",
      "\n"
     ]
    },
    {
     "data": {
      "text/latex": [
       "\\begin{verbatim}\n",
       "findall(f::Function, A)\n",
       "\\end{verbatim}\n",
       "Return a vector \\texttt{I} of the indices or keys of \\texttt{A} where \\texttt{f(A[I])} returns \\texttt{true}. If there are no such elements of \\texttt{A}, return an empty array.\n",
       "\n",
       "Indices or keys are of the same type as those returned by \\href{@ref}{\\texttt{keys(A)}} and \\href{@ref}{\\texttt{pairs(A)}}.\n",
       "\n",
       "\\section{Examples}\n",
       "\\begin{verbatim}\n",
       "julia> x = [1, 3, 4]\n",
       "3-element Array{Int64,1}:\n",
       " 1\n",
       " 3\n",
       " 4\n",
       "\n",
       "julia> findall(isodd, x)\n",
       "2-element Array{Int64,1}:\n",
       " 1\n",
       " 2\n",
       "\n",
       "julia> A = [1 2 0; 3 4 0]\n",
       "2×3 Array{Int64,2}:\n",
       " 1  2  0\n",
       " 3  4  0\n",
       "julia> findall(isodd, A)\n",
       "2-element Array{CartesianIndex{2},1}:\n",
       " CartesianIndex(1, 1)\n",
       " CartesianIndex(2, 1)\n",
       "\n",
       "julia> findall(!iszero, A)\n",
       "4-element Array{CartesianIndex{2},1}:\n",
       " CartesianIndex(1, 1)\n",
       " CartesianIndex(2, 1)\n",
       " CartesianIndex(1, 2)\n",
       " CartesianIndex(2, 2)\n",
       "\n",
       "julia> d = Dict(:A => 10, :B => -1, :C => 0)\n",
       "Dict{Symbol,Int64} with 3 entries:\n",
       "  :A => 10\n",
       "  :B => -1\n",
       "  :C => 0\n",
       "\n",
       "julia> findall(x -> x >= 0, d)\n",
       "2-element Array{Symbol,1}:\n",
       " :A\n",
       " :C\n",
       "\n",
       "\\end{verbatim}\n",
       "\\rule{\\textwidth}{1pt}\n",
       "\\begin{verbatim}\n",
       "findall(A)\n",
       "\\end{verbatim}\n",
       "Return a vector \\texttt{I} of the \\texttt{true} indices or keys of \\texttt{A}. If there are no such elements of \\texttt{A}, return an empty array. To search for other kinds of values, pass a predicate as the first argument.\n",
       "\n",
       "Indices or keys are of the same type as those returned by \\href{@ref}{\\texttt{keys(A)}} and \\href{@ref}{\\texttt{pairs(A)}}.\n",
       "\n",
       "\\section{Examples}\n",
       "\\begin{verbatim}\n",
       "julia> A = [true, false, false, true]\n",
       "4-element Array{Bool,1}:\n",
       "  true\n",
       " false\n",
       " false\n",
       "  true\n",
       "\n",
       "julia> findall(A)\n",
       "2-element Array{Int64,1}:\n",
       " 1\n",
       " 4\n",
       "\n",
       "julia> A = [true false; false true]\n",
       "2×2 Array{Bool,2}:\n",
       "  true  false\n",
       " false   true\n",
       "\n",
       "julia> findall(A)\n",
       "2-element Array{CartesianIndex{2},1}:\n",
       " CartesianIndex(1, 1)\n",
       " CartesianIndex(2, 2)\n",
       "\n",
       "julia> findall(falses(3))\n",
       "0-element Array{Int64,1}\n",
       "\\end{verbatim}\n"
      ],
      "text/markdown": [
       "```\n",
       "findall(f::Function, A)\n",
       "```\n",
       "\n",
       "Return a vector `I` of the indices or keys of `A` where `f(A[I])` returns `true`. If there are no such elements of `A`, return an empty array.\n",
       "\n",
       "Indices or keys are of the same type as those returned by [`keys(A)`](@ref) and [`pairs(A)`](@ref).\n",
       "\n",
       "# Examples\n",
       "\n",
       "```jldoctest\n",
       "julia> x = [1, 3, 4]\n",
       "3-element Array{Int64,1}:\n",
       " 1\n",
       " 3\n",
       " 4\n",
       "\n",
       "julia> findall(isodd, x)\n",
       "2-element Array{Int64,1}:\n",
       " 1\n",
       " 2\n",
       "\n",
       "julia> A = [1 2 0; 3 4 0]\n",
       "2×3 Array{Int64,2}:\n",
       " 1  2  0\n",
       " 3  4  0\n",
       "julia> findall(isodd, A)\n",
       "2-element Array{CartesianIndex{2},1}:\n",
       " CartesianIndex(1, 1)\n",
       " CartesianIndex(2, 1)\n",
       "\n",
       "julia> findall(!iszero, A)\n",
       "4-element Array{CartesianIndex{2},1}:\n",
       " CartesianIndex(1, 1)\n",
       " CartesianIndex(2, 1)\n",
       " CartesianIndex(1, 2)\n",
       " CartesianIndex(2, 2)\n",
       "\n",
       "julia> d = Dict(:A => 10, :B => -1, :C => 0)\n",
       "Dict{Symbol,Int64} with 3 entries:\n",
       "  :A => 10\n",
       "  :B => -1\n",
       "  :C => 0\n",
       "\n",
       "julia> findall(x -> x >= 0, d)\n",
       "2-element Array{Symbol,1}:\n",
       " :A\n",
       " :C\n",
       "\n",
       "```\n",
       "\n",
       "---\n",
       "\n",
       "```\n",
       "findall(A)\n",
       "```\n",
       "\n",
       "Return a vector `I` of the `true` indices or keys of `A`. If there are no such elements of `A`, return an empty array. To search for other kinds of values, pass a predicate as the first argument.\n",
       "\n",
       "Indices or keys are of the same type as those returned by [`keys(A)`](@ref) and [`pairs(A)`](@ref).\n",
       "\n",
       "# Examples\n",
       "\n",
       "```jldoctest\n",
       "julia> A = [true, false, false, true]\n",
       "4-element Array{Bool,1}:\n",
       "  true\n",
       " false\n",
       " false\n",
       "  true\n",
       "\n",
       "julia> findall(A)\n",
       "2-element Array{Int64,1}:\n",
       " 1\n",
       " 4\n",
       "\n",
       "julia> A = [true false; false true]\n",
       "2×2 Array{Bool,2}:\n",
       "  true  false\n",
       " false   true\n",
       "\n",
       "julia> findall(A)\n",
       "2-element Array{CartesianIndex{2},1}:\n",
       " CartesianIndex(1, 1)\n",
       " CartesianIndex(2, 2)\n",
       "\n",
       "julia> findall(falses(3))\n",
       "0-element Array{Int64,1}\n",
       "```\n"
      ],
      "text/plain": [
       "\u001b[36m  findall(f::Function, A)\u001b[39m\n",
       "\n",
       "  Return a vector \u001b[36mI\u001b[39m of the indices or keys of \u001b[36mA\u001b[39m where \u001b[36mf(A[I])\u001b[39m returns \u001b[36mtrue\u001b[39m. If\n",
       "  there are no such elements of \u001b[36mA\u001b[39m, return an empty array.\n",
       "\n",
       "  Indices or keys are of the same type as those returned by \u001b[36mkeys(A)\u001b[39m and\n",
       "  \u001b[36mpairs(A)\u001b[39m.\n",
       "\n",
       "\u001b[1m  Examples\u001b[22m\n",
       "\u001b[1m  ≡≡≡≡≡≡≡≡≡≡\u001b[22m\n",
       "\n",
       "\u001b[36m  julia> x = [1, 3, 4]\u001b[39m\n",
       "\u001b[36m  3-element Array{Int64,1}:\u001b[39m\n",
       "\u001b[36m   1\u001b[39m\n",
       "\u001b[36m   3\u001b[39m\n",
       "\u001b[36m   4\u001b[39m\n",
       "\u001b[36m  \u001b[39m\n",
       "\u001b[36m  julia> findall(isodd, x)\u001b[39m\n",
       "\u001b[36m  2-element Array{Int64,1}:\u001b[39m\n",
       "\u001b[36m   1\u001b[39m\n",
       "\u001b[36m   2\u001b[39m\n",
       "\u001b[36m  \u001b[39m\n",
       "\u001b[36m  julia> A = [1 2 0; 3 4 0]\u001b[39m\n",
       "\u001b[36m  2×3 Array{Int64,2}:\u001b[39m\n",
       "\u001b[36m   1  2  0\u001b[39m\n",
       "\u001b[36m   3  4  0\u001b[39m\n",
       "\u001b[36m  julia> findall(isodd, A)\u001b[39m\n",
       "\u001b[36m  2-element Array{CartesianIndex{2},1}:\u001b[39m\n",
       "\u001b[36m   CartesianIndex(1, 1)\u001b[39m\n",
       "\u001b[36m   CartesianIndex(2, 1)\u001b[39m\n",
       "\u001b[36m  \u001b[39m\n",
       "\u001b[36m  julia> findall(!iszero, A)\u001b[39m\n",
       "\u001b[36m  4-element Array{CartesianIndex{2},1}:\u001b[39m\n",
       "\u001b[36m   CartesianIndex(1, 1)\u001b[39m\n",
       "\u001b[36m   CartesianIndex(2, 1)\u001b[39m\n",
       "\u001b[36m   CartesianIndex(1, 2)\u001b[39m\n",
       "\u001b[36m   CartesianIndex(2, 2)\u001b[39m\n",
       "\u001b[36m  \u001b[39m\n",
       "\u001b[36m  julia> d = Dict(:A => 10, :B => -1, :C => 0)\u001b[39m\n",
       "\u001b[36m  Dict{Symbol,Int64} with 3 entries:\u001b[39m\n",
       "\u001b[36m    :A => 10\u001b[39m\n",
       "\u001b[36m    :B => -1\u001b[39m\n",
       "\u001b[36m    :C => 0\u001b[39m\n",
       "\u001b[36m  \u001b[39m\n",
       "\u001b[36m  julia> findall(x -> x >= 0, d)\u001b[39m\n",
       "\u001b[36m  2-element Array{Symbol,1}:\u001b[39m\n",
       "\u001b[36m   :A\u001b[39m\n",
       "\u001b[36m   :C\u001b[39m\n",
       "\u001b[36m  \u001b[39m\n",
       "\n",
       "  ────────────────────────────────────────────────────────────────────────────\n",
       "\n",
       "\u001b[36m  findall(A)\u001b[39m\n",
       "\n",
       "  Return a vector \u001b[36mI\u001b[39m of the \u001b[36mtrue\u001b[39m indices or keys of \u001b[36mA\u001b[39m. If there are no such\n",
       "  elements of \u001b[36mA\u001b[39m, return an empty array. To search for other kinds of values,\n",
       "  pass a predicate as the first argument.\n",
       "\n",
       "  Indices or keys are of the same type as those returned by \u001b[36mkeys(A)\u001b[39m and\n",
       "  \u001b[36mpairs(A)\u001b[39m.\n",
       "\n",
       "\u001b[1m  Examples\u001b[22m\n",
       "\u001b[1m  ≡≡≡≡≡≡≡≡≡≡\u001b[22m\n",
       "\n",
       "\u001b[36m  julia> A = [true, false, false, true]\u001b[39m\n",
       "\u001b[36m  4-element Array{Bool,1}:\u001b[39m\n",
       "\u001b[36m    true\u001b[39m\n",
       "\u001b[36m   false\u001b[39m\n",
       "\u001b[36m   false\u001b[39m\n",
       "\u001b[36m    true\u001b[39m\n",
       "\u001b[36m  \u001b[39m\n",
       "\u001b[36m  julia> findall(A)\u001b[39m\n",
       "\u001b[36m  2-element Array{Int64,1}:\u001b[39m\n",
       "\u001b[36m   1\u001b[39m\n",
       "\u001b[36m   4\u001b[39m\n",
       "\u001b[36m  \u001b[39m\n",
       "\u001b[36m  julia> A = [true false; false true]\u001b[39m\n",
       "\u001b[36m  2×2 Array{Bool,2}:\u001b[39m\n",
       "\u001b[36m    true  false\u001b[39m\n",
       "\u001b[36m   false   true\u001b[39m\n",
       "\u001b[36m  \u001b[39m\n",
       "\u001b[36m  julia> findall(A)\u001b[39m\n",
       "\u001b[36m  2-element Array{CartesianIndex{2},1}:\u001b[39m\n",
       "\u001b[36m   CartesianIndex(1, 1)\u001b[39m\n",
       "\u001b[36m   CartesianIndex(2, 2)\u001b[39m\n",
       "\u001b[36m  \u001b[39m\n",
       "\u001b[36m  julia> findall(falses(3))\u001b[39m\n",
       "\u001b[36m  0-element Array{Int64,1}\u001b[39m"
      ]
     },
     "execution_count": 22,
     "metadata": {},
     "output_type": "execute_result"
    }
   ],
   "source": [
    "?findall"
   ]
  },
  {
   "cell_type": "code",
   "execution_count": 28,
   "metadata": {},
   "outputs": [
    {
     "data": {
      "text/plain": [
       "2×3 Array{Int64,2}:\n",
       " 1  3  4\n",
       " 2  3  4"
      ]
     },
     "execution_count": 28,
     "metadata": {},
     "output_type": "execute_result"
    }
   ],
   "source": [
    "x = [1 3 4; 2 3 4]"
   ]
  },
  {
   "cell_type": "code",
   "execution_count": 29,
   "metadata": {},
   "outputs": [
    {
     "data": {
      "text/plain": [
       "3-element Array{CartesianIndex{2},1}:\n",
       " CartesianIndex(1, 1)\n",
       " CartesianIndex(1, 2)\n",
       " CartesianIndex(2, 2)"
      ]
     },
     "execution_count": 29,
     "metadata": {},
     "output_type": "execute_result"
    }
   ],
   "source": [
    "findall(isodd, x)"
   ]
  },
  {
   "cell_type": "code",
   "execution_count": 30,
   "metadata": {},
   "outputs": [],
   "source": [
    "using StatsBase"
   ]
  },
  {
   "cell_type": "code",
   "execution_count": 32,
   "metadata": {},
   "outputs": [
    {
     "data": {
      "text/latex": [
       "\\begin{verbatim}\n",
       "sample([rng], a, [wv::AbstractWeights])\n",
       "\\end{verbatim}\n",
       "Select a single random element of \\texttt{a}. Sampling probabilities are proportional to the weights given in \\texttt{wv}, if provided.\n",
       "\n",
       "Optionally specify a random number generator \\texttt{rng} as the first argument (defaults to \\texttt{Random.GLOBAL\\_RNG}).\n",
       "\n",
       "\\rule{\\textwidth}{1pt}\n",
       "\\begin{verbatim}\n",
       "sample([rng], a, [wv::AbstractWeights], n::Integer; replace=true, ordered=false)\n",
       "\\end{verbatim}\n",
       "Select a random, optionally weighted sample of size \\texttt{n} from an array \\texttt{a} using a polyalgorithm. Sampling probabilities are proportional to the weights given in \\texttt{wv}, if provided. \\texttt{replace} dictates whether sampling is performed with replacement and \\texttt{order} dictates whether an ordered sample, also called a sequential sample, should be taken.\n",
       "\n",
       "Optionally specify a random number generator \\texttt{rng} as the first argument (defaults to \\texttt{Random.GLOBAL\\_RNG}).\n",
       "\n",
       "\\rule{\\textwidth}{1pt}\n",
       "\\begin{verbatim}\n",
       "sample([rng], a, [wv::AbstractWeights], dims::Dims; replace=true, ordered=false)\n",
       "\\end{verbatim}\n",
       "Select a random, optionally weighted sample from an array \\texttt{a} specifying the dimensions \\texttt{dims} of the output array. Sampling probabilities are proportional to the weights given in \\texttt{wv}, if provided. \\texttt{replace} dictates whether sampling is performed with replacement and \\texttt{order} dictates whether an ordered sample, also called a sequential sample, should be taken.\n",
       "\n",
       "Optionally specify a random number generator \\texttt{rng} as the first argument (defaults to \\texttt{Random.GLOBAL\\_RNG}).\n",
       "\n",
       "\\rule{\\textwidth}{1pt}\n",
       "\\begin{verbatim}\n",
       "sample([rng], wv::AbstractWeights)\n",
       "\\end{verbatim}\n",
       "Select a single random integer in \\texttt{1:length(wv)} with probabilities proportional to the weights given in \\texttt{wv}.\n",
       "\n",
       "Optionally specify a random number generator \\texttt{rng} as the first argument (defaults to \\texttt{Random.GLOBAL\\_RNG}).\n",
       "\n"
      ],
      "text/markdown": [
       "```\n",
       "sample([rng], a, [wv::AbstractWeights])\n",
       "```\n",
       "\n",
       "Select a single random element of `a`. Sampling probabilities are proportional to the weights given in `wv`, if provided.\n",
       "\n",
       "Optionally specify a random number generator `rng` as the first argument (defaults to `Random.GLOBAL_RNG`).\n",
       "\n",
       "---\n",
       "\n",
       "```\n",
       "sample([rng], a, [wv::AbstractWeights], n::Integer; replace=true, ordered=false)\n",
       "```\n",
       "\n",
       "Select a random, optionally weighted sample of size `n` from an array `a` using a polyalgorithm. Sampling probabilities are proportional to the weights given in `wv`, if provided. `replace` dictates whether sampling is performed with replacement and `order` dictates whether an ordered sample, also called a sequential sample, should be taken.\n",
       "\n",
       "Optionally specify a random number generator `rng` as the first argument (defaults to `Random.GLOBAL_RNG`).\n",
       "\n",
       "---\n",
       "\n",
       "```\n",
       "sample([rng], a, [wv::AbstractWeights], dims::Dims; replace=true, ordered=false)\n",
       "```\n",
       "\n",
       "Select a random, optionally weighted sample from an array `a` specifying the dimensions `dims` of the output array. Sampling probabilities are proportional to the weights given in `wv`, if provided. `replace` dictates whether sampling is performed with replacement and `order` dictates whether an ordered sample, also called a sequential sample, should be taken.\n",
       "\n",
       "Optionally specify a random number generator `rng` as the first argument (defaults to `Random.GLOBAL_RNG`).\n",
       "\n",
       "---\n",
       "\n",
       "```\n",
       "sample([rng], wv::AbstractWeights)\n",
       "```\n",
       "\n",
       "Select a single random integer in `1:length(wv)` with probabilities proportional to the weights given in `wv`.\n",
       "\n",
       "Optionally specify a random number generator `rng` as the first argument (defaults to `Random.GLOBAL_RNG`).\n"
      ],
      "text/plain": [
       "\u001b[36m  sample([rng], a, [wv::AbstractWeights])\u001b[39m\n",
       "\n",
       "  Select a single random element of \u001b[36ma\u001b[39m. Sampling probabilities are proportional\n",
       "  to the weights given in \u001b[36mwv\u001b[39m, if provided.\n",
       "\n",
       "  Optionally specify a random number generator \u001b[36mrng\u001b[39m as the first argument\n",
       "  (defaults to \u001b[36mRandom.GLOBAL_RNG\u001b[39m).\n",
       "\n",
       "  ────────────────────────────────────────────────────────────────────────────\n",
       "\n",
       "\u001b[36m  sample([rng], a, [wv::AbstractWeights], n::Integer; replace=true, ordered=false)\u001b[39m\n",
       "\n",
       "  Select a random, optionally weighted sample of size \u001b[36mn\u001b[39m from an array \u001b[36ma\u001b[39m using\n",
       "  a polyalgorithm. Sampling probabilities are proportional to the weights\n",
       "  given in \u001b[36mwv\u001b[39m, if provided. \u001b[36mreplace\u001b[39m dictates whether sampling is performed\n",
       "  with replacement and \u001b[36morder\u001b[39m dictates whether an ordered sample, also called a\n",
       "  sequential sample, should be taken.\n",
       "\n",
       "  Optionally specify a random number generator \u001b[36mrng\u001b[39m as the first argument\n",
       "  (defaults to \u001b[36mRandom.GLOBAL_RNG\u001b[39m).\n",
       "\n",
       "  ────────────────────────────────────────────────────────────────────────────\n",
       "\n",
       "\u001b[36m  sample([rng], a, [wv::AbstractWeights], dims::Dims; replace=true, ordered=false)\u001b[39m\n",
       "\n",
       "  Select a random, optionally weighted sample from an array \u001b[36ma\u001b[39m specifying the\n",
       "  dimensions \u001b[36mdims\u001b[39m of the output array. Sampling probabilities are proportional\n",
       "  to the weights given in \u001b[36mwv\u001b[39m, if provided. \u001b[36mreplace\u001b[39m dictates whether sampling\n",
       "  is performed with replacement and \u001b[36morder\u001b[39m dictates whether an ordered sample,\n",
       "  also called a sequential sample, should be taken.\n",
       "\n",
       "  Optionally specify a random number generator \u001b[36mrng\u001b[39m as the first argument\n",
       "  (defaults to \u001b[36mRandom.GLOBAL_RNG\u001b[39m).\n",
       "\n",
       "  ────────────────────────────────────────────────────────────────────────────\n",
       "\n",
       "\u001b[36m  sample([rng], wv::AbstractWeights)\u001b[39m\n",
       "\n",
       "  Select a single random integer in \u001b[36m1:length(wv)\u001b[39m with probabilities\n",
       "  proportional to the weights given in \u001b[36mwv\u001b[39m.\n",
       "\n",
       "  Optionally specify a random number generator \u001b[36mrng\u001b[39m as the first argument\n",
       "  (defaults to \u001b[36mRandom.GLOBAL_RNG\u001b[39m)."
      ]
     },
     "execution_count": 32,
     "metadata": {},
     "output_type": "execute_result"
    }
   ],
   "source": [
    "?StatsBase.sample"
   ]
  },
  {
   "cell_type": "code",
   "execution_count": 33,
   "metadata": {},
   "outputs": [
    {
     "name": "stdout",
     "output_type": "stream",
     "text": [
      "search: \u001b[0m\u001b[1mr\u001b[22m\u001b[0m\u001b[1ma\u001b[22m\u001b[0m\u001b[1mn\u001b[22m\u001b[0m\u001b[1md\u001b[22m \u001b[0m\u001b[1mr\u001b[22m\u001b[0m\u001b[1ma\u001b[22m\u001b[0m\u001b[1mn\u001b[22m\u001b[0m\u001b[1md\u001b[22mn sp\u001b[0m\u001b[1mr\u001b[22m\u001b[0m\u001b[1ma\u001b[22m\u001b[0m\u001b[1mn\u001b[22m\u001b[0m\u001b[1md\u001b[22m sp\u001b[0m\u001b[1mr\u001b[22m\u001b[0m\u001b[1ma\u001b[22m\u001b[0m\u001b[1mn\u001b[22m\u001b[0m\u001b[1md\u001b[22mn t\u001b[0m\u001b[1mr\u001b[22m\u001b[0m\u001b[1ma\u001b[22m\u001b[0m\u001b[1mn\u001b[22msco\u001b[0m\u001b[1md\u001b[22me mac\u001b[0m\u001b[1mr\u001b[22moexp\u001b[0m\u001b[1ma\u001b[22m\u001b[0m\u001b[1mn\u001b[22m\u001b[0m\u001b[1md\u001b[22m @mac\u001b[0m\u001b[1mr\u001b[22moexp\u001b[0m\u001b[1ma\u001b[22m\u001b[0m\u001b[1mn\u001b[22m\u001b[0m\u001b[1md\u001b[22m\n",
      "\n"
     ]
    },
    {
     "data": {
      "text/latex": [
       "\\begin{verbatim}\n",
       "rand([rng=GLOBAL_RNG], [S], [dims...])\n",
       "\\end{verbatim}\n",
       "Pick a random element or array of random elements from the set of values specified by \\texttt{S}; \\texttt{S} can be\n",
       "\n",
       "\\begin{itemize}\n",
       "\\item an indexable collection (for example \\texttt{1:9} or \\texttt{('x', \"y\", :z)}),\n",
       "\n",
       "\n",
       "\\item an \\texttt{AbstractDict} or \\texttt{AbstractSet} object,\n",
       "\n",
       "\n",
       "\\item a string (considered as a collection of characters), or\n",
       "\n",
       "\n",
       "\\item a type: the set of values to pick from is then equivalent to \\texttt{typemin(S):typemax(S)} for integers (this is not applicable to \\href{@ref}{\\texttt{BigInt}}), and to $[0, 1)$ for floating point numbers;\n",
       "\n",
       "\\end{itemize}\n",
       "\\texttt{S} defaults to \\href{@ref}{\\texttt{Float64}}.\n",
       "\n",
       "\\begin{quote}\n",
       "\\textbf{compat}\n",
       "\n",
       "Julia 1.1\n",
       "\n",
       "Support for \\texttt{S} as a tuple requires at least Julia 1.1.\n",
       "\n",
       "\\end{quote}\n",
       "\\section{Examples}\n",
       "\\begin{verbatim}\n",
       "julia> rand(Int, 2)\n",
       "2-element Array{Int64,1}:\n",
       " 1339893410598768192\n",
       " 1575814717733606317\n",
       "\n",
       "julia> rand(MersenneTwister(0), Dict(1=>2, 3=>4))\n",
       "1=>2\n",
       "\\end{verbatim}\n",
       "\\begin{quote}\n",
       "\\textbf{note}\n",
       "\n",
       "Note\n",
       "\n",
       "The complexity of \\texttt{rand(rng, s::Union\\{AbstractDict,AbstractSet\\})} is linear in the length of \\texttt{s}, unless an optimized method with constant complexity is available, which is the case for \\texttt{Dict}, \\texttt{Set} and \\texttt{BitSet}. For more than a few calls, use \\texttt{rand(rng, collect(s))} instead, or either \\texttt{rand(rng, Dict(s))} or \\texttt{rand(rng, Set(s))} as appropriate.\n",
       "\n",
       "\\end{quote}\n",
       "\\rule{\\textwidth}{1pt}\n",
       "\\begin{verbatim}\n",
       "rand([rng::AbstractRNG,] s::Sampleable)\n",
       "\\end{verbatim}\n",
       "Generate one sample for \\texttt{s}.\n",
       "\n",
       "\\begin{verbatim}\n",
       "rand([rng::AbstractRNG,] s::Sampleable, n::Int)\n",
       "\\end{verbatim}\n",
       "Generate \\texttt{n} samples from \\texttt{s}. The form of the returned object depends on the variate form of \\texttt{s}:\n",
       "\n",
       "\\begin{itemize}\n",
       "\\item When \\texttt{s} is univariate, it returns a vector of length \\texttt{n}.\n",
       "\n",
       "\n",
       "\\item When \\texttt{s} is multivariate, it returns a matrix with \\texttt{n} columns.\n",
       "\n",
       "\n",
       "\\item When \\texttt{s} is matrix-variate, it returns an array, where each element is a sample matrix.\n",
       "\n",
       "rand([rng::AbstractRNG,] s::Sampleable, dim1::Int, dim2::Int...)   rand([rng::AbstractRNG,] s::Sampleable, dims::Dims)\n",
       "\n",
       "\\end{itemize}\n",
       "Generate an array of samples from \\texttt{s} whose shape is determined by the given dimensions.\n",
       "\n",
       "\\rule{\\textwidth}{1pt}\n",
       "\\begin{verbatim}\n",
       "rand(d::UnivariateDistribution)\n",
       "\\end{verbatim}\n",
       "Generate a scalar sample from \\texttt{d}. The general fallback is \\texttt{quantile(d, rand())}.\n",
       "\n",
       "\\rule{\\textwidth}{1pt}\n",
       "\\begin{verbatim}\n",
       "rand(d::Union{UnivariateMixture, MultivariateDistribution})\n",
       "\\end{verbatim}\n",
       "Draw a sample from the mixture model \\texttt{d}.\n",
       "\n",
       "\\begin{verbatim}\n",
       "rand(d::Union{UnivariateMixture, MultivariateMixture}, n)\n",
       "\\end{verbatim}\n",
       "Draw \\texttt{n} samples from \\texttt{d}.\n",
       "\n"
      ],
      "text/markdown": [
       "```\n",
       "rand([rng=GLOBAL_RNG], [S], [dims...])\n",
       "```\n",
       "\n",
       "Pick a random element or array of random elements from the set of values specified by `S`; `S` can be\n",
       "\n",
       "  * an indexable collection (for example `1:9` or `('x', \"y\", :z)`),\n",
       "  * an `AbstractDict` or `AbstractSet` object,\n",
       "  * a string (considered as a collection of characters), or\n",
       "  * a type: the set of values to pick from is then equivalent to `typemin(S):typemax(S)` for integers (this is not applicable to [`BigInt`](@ref)), and to $[0, 1)$ for floating point numbers;\n",
       "\n",
       "`S` defaults to [`Float64`](@ref).\n",
       "\n",
       "!!! compat \"Julia 1.1\"\n",
       "    Support for `S` as a tuple requires at least Julia 1.1.\n",
       "\n",
       "\n",
       "# Examples\n",
       "\n",
       "```julia-repl\n",
       "julia> rand(Int, 2)\n",
       "2-element Array{Int64,1}:\n",
       " 1339893410598768192\n",
       " 1575814717733606317\n",
       "\n",
       "julia> rand(MersenneTwister(0), Dict(1=>2, 3=>4))\n",
       "1=>2\n",
       "```\n",
       "\n",
       "!!! note\n",
       "    The complexity of `rand(rng, s::Union{AbstractDict,AbstractSet})` is linear in the length of `s`, unless an optimized method with constant complexity is available, which is the case for `Dict`, `Set` and `BitSet`. For more than a few calls, use `rand(rng, collect(s))` instead, or either `rand(rng, Dict(s))` or `rand(rng, Set(s))` as appropriate.\n",
       "\n",
       "\n",
       "---\n",
       "\n",
       "```\n",
       "rand([rng::AbstractRNG,] s::Sampleable)\n",
       "```\n",
       "\n",
       "Generate one sample for `s`.\n",
       "\n",
       "```\n",
       "rand([rng::AbstractRNG,] s::Sampleable, n::Int)\n",
       "```\n",
       "\n",
       "Generate `n` samples from `s`. The form of the returned object depends on the variate form of `s`:\n",
       "\n",
       "  * When `s` is univariate, it returns a vector of length `n`.\n",
       "  * When `s` is multivariate, it returns a matrix with `n` columns.\n",
       "  * When `s` is matrix-variate, it returns an array, where each element is a sample matrix.\n",
       "\n",
       "    rand([rng::AbstractRNG,] s::Sampleable, dim1::Int, dim2::Int...)   rand([rng::AbstractRNG,] s::Sampleable, dims::Dims)\n",
       "\n",
       "Generate an array of samples from `s` whose shape is determined by the given dimensions.\n",
       "\n",
       "---\n",
       "\n",
       "```\n",
       "rand(d::UnivariateDistribution)\n",
       "```\n",
       "\n",
       "Generate a scalar sample from `d`. The general fallback is `quantile(d, rand())`.\n",
       "\n",
       "---\n",
       "\n",
       "```\n",
       "rand(d::Union{UnivariateMixture, MultivariateDistribution})\n",
       "```\n",
       "\n",
       "Draw a sample from the mixture model `d`.\n",
       "\n",
       "```\n",
       "rand(d::Union{UnivariateMixture, MultivariateMixture}, n)\n",
       "```\n",
       "\n",
       "Draw `n` samples from `d`.\n"
      ],
      "text/plain": [
       "\u001b[36m  rand([rng=GLOBAL_RNG], [S], [dims...])\u001b[39m\n",
       "\n",
       "  Pick a random element or array of random elements from the set of values\n",
       "  specified by \u001b[36mS\u001b[39m; \u001b[36mS\u001b[39m can be\n",
       "\n",
       "    •    an indexable collection (for example \u001b[36m1:9\u001b[39m or \u001b[36m('x', \"y\", :z)\u001b[39m),\n",
       "\n",
       "    •    an \u001b[36mAbstractDict\u001b[39m or \u001b[36mAbstractSet\u001b[39m object,\n",
       "\n",
       "    •    a string (considered as a collection of characters), or\n",
       "\n",
       "    •    a type: the set of values to pick from is then equivalent to\n",
       "        \u001b[36mtypemin(S):typemax(S)\u001b[39m for integers (this is not applicable to\n",
       "        \u001b[36mBigInt\u001b[39m), and to \u001b[35m[0, 1)\u001b[39m for floating point numbers;\n",
       "\n",
       "  \u001b[36mS\u001b[39m defaults to \u001b[36mFloat64\u001b[39m.\n",
       "\n",
       "\u001b[39m\u001b[1m  │ \u001b[22m\u001b[39m\u001b[1mJulia 1.1\u001b[22m\n",
       "\u001b[39m\u001b[1m  │\u001b[22m\n",
       "\u001b[39m\u001b[1m  │\u001b[22m  Support for \u001b[36mS\u001b[39m as a tuple requires at least Julia 1.1.\n",
       "\n",
       "\u001b[1m  Examples\u001b[22m\n",
       "\u001b[1m  ≡≡≡≡≡≡≡≡≡≡\u001b[22m\n",
       "\n",
       "\u001b[36m  julia> rand(Int, 2)\u001b[39m\n",
       "\u001b[36m  2-element Array{Int64,1}:\u001b[39m\n",
       "\u001b[36m   1339893410598768192\u001b[39m\n",
       "\u001b[36m   1575814717733606317\u001b[39m\n",
       "\u001b[36m  \u001b[39m\n",
       "\u001b[36m  julia> rand(MersenneTwister(0), Dict(1=>2, 3=>4))\u001b[39m\n",
       "\u001b[36m  1=>2\u001b[39m\n",
       "\n",
       "\u001b[36m\u001b[1m  │ \u001b[22m\u001b[39m\u001b[36m\u001b[1mNote\u001b[22m\u001b[39m\n",
       "\u001b[36m\u001b[1m  │\u001b[22m\u001b[39m\n",
       "\u001b[36m\u001b[1m  │\u001b[22m\u001b[39m  The complexity of \u001b[36mrand(rng, s::Union{AbstractDict,AbstractSet})\u001b[39m is\n",
       "\u001b[36m\u001b[1m  │\u001b[22m\u001b[39m  linear in the length of \u001b[36ms\u001b[39m, unless an optimized method with\n",
       "\u001b[36m\u001b[1m  │\u001b[22m\u001b[39m  constant complexity is available, which is the case for \u001b[36mDict\u001b[39m, \u001b[36mSet\u001b[39m\n",
       "\u001b[36m\u001b[1m  │\u001b[22m\u001b[39m  and \u001b[36mBitSet\u001b[39m. For more than a few calls, use \u001b[36mrand(rng, collect(s))\u001b[39m\n",
       "\u001b[36m\u001b[1m  │\u001b[22m\u001b[39m  instead, or either \u001b[36mrand(rng, Dict(s))\u001b[39m or \u001b[36mrand(rng, Set(s))\u001b[39m as\n",
       "\u001b[36m\u001b[1m  │\u001b[22m\u001b[39m  appropriate.\n",
       "\n",
       "  ────────────────────────────────────────────────────────────────────────────\n",
       "\n",
       "\u001b[36m  rand([rng::AbstractRNG,] s::Sampleable)\u001b[39m\n",
       "\n",
       "  Generate one sample for \u001b[36ms\u001b[39m.\n",
       "\n",
       "\u001b[36m  rand([rng::AbstractRNG,] s::Sampleable, n::Int)\u001b[39m\n",
       "\n",
       "  Generate \u001b[36mn\u001b[39m samples from \u001b[36ms\u001b[39m. The form of the returned object depends on the\n",
       "  variate form of \u001b[36ms\u001b[39m:\n",
       "\n",
       "    •    When \u001b[36ms\u001b[39m is univariate, it returns a vector of length \u001b[36mn\u001b[39m.\n",
       "\n",
       "    •    When \u001b[36ms\u001b[39m is multivariate, it returns a matrix with \u001b[36mn\u001b[39m columns.\n",
       "\n",
       "    •    When \u001b[36ms\u001b[39m is matrix-variate, it returns an array, where each element\n",
       "        is a sample matrix.\n",
       "      \n",
       "        rand([rng::AbstractRNG,] s::Sampleable, dim1::Int, dim2::Int...)\n",
       "        rand([rng::AbstractRNG,] s::Sampleable, dims::Dims)\n",
       "\n",
       "  Generate an array of samples from \u001b[36ms\u001b[39m whose shape is determined by the given\n",
       "  dimensions.\n",
       "\n",
       "  ────────────────────────────────────────────────────────────────────────────\n",
       "\n",
       "\u001b[36m  rand(d::UnivariateDistribution)\u001b[39m\n",
       "\n",
       "  Generate a scalar sample from \u001b[36md\u001b[39m. The general fallback is \u001b[36mquantile(d,\n",
       "  rand())\u001b[39m.\n",
       "\n",
       "  ────────────────────────────────────────────────────────────────────────────\n",
       "\n",
       "\u001b[36m  rand(d::Union{UnivariateMixture, MultivariateDistribution})\u001b[39m\n",
       "\n",
       "  Draw a sample from the mixture model \u001b[36md\u001b[39m.\n",
       "\n",
       "\u001b[36m  rand(d::Union{UnivariateMixture, MultivariateMixture}, n)\u001b[39m\n",
       "\n",
       "  Draw \u001b[36mn\u001b[39m samples from \u001b[36md\u001b[39m."
      ]
     },
     "execution_count": 33,
     "metadata": {},
     "output_type": "execute_result"
    }
   ],
   "source": [
    "?rand"
   ]
  },
  {
   "cell_type": "code",
   "execution_count": 3,
   "metadata": {},
   "outputs": [
    {
     "name": "stdout",
     "output_type": "stream",
     "text": [
      "search: \u001b[0m\u001b[1mE\u001b[22m\u001b[0m\u001b[1mi\u001b[22m\u001b[0m\u001b[1ms\u001b[22m\u001b[0m\u001b[1me\u001b[22m\u001b[0m\u001b[1mn\u001b[22m\u001b[0m\u001b[1mb\u001b[22m\u001b[0m\u001b[1me\u001b[22m\u001b[0m\u001b[1mr\u001b[22m\u001b[0m\u001b[1mg\u001b[22m\u001b[0m\u001b[1mN\u001b[22m\u001b[0m\u001b[1mo\u001b[22m\u001b[0m\u001b[1me\u001b[22m\u001b[0m\u001b[1mM\u001b[22m\u001b[0m\u001b[1mo\u001b[22m\u001b[0m\u001b[1md\u001b[22m\u001b[0m\u001b[1me\u001b[22m\u001b[0m\u001b[1ml\u001b[22m\n",
      "\n"
     ]
    },
    {
     "data": {
      "text/latex": [
       "\\begin{verbatim}\n",
       "EisenbergNoeModel(Lᵉ, L)\n",
       "\\end{verbatim}\n",
       "Creates an instance of the NEVAModel with valuation functions\n",
       "\n",
       "$$\\begin{align}\n",
       "\\mathbb{V}^e_i(E_i) &= 1 \\quad \\forall i \\\\\n",
       "\\mathbb{V}_{ij}(E_j) &= \\unicode{x1D7D9}_{E_j \\geq 0} + \\left(\\frac{E_j + \\bar{p}_j}{\\bar{p}_j}\\right)^+ \\unicode{x1D7D9}_{E_j < 0} \\quad \\forall i, j\n",
       "\\end{align}$$\n",
       "where $\\bar{p}_j = \\sum_k L_{jk}$.\n",
       "\n",
       "This valuation was shown to correspond to the model by Eisenberg \\& Noe.\n",
       "\n"
      ],
      "text/markdown": [
       "```\n",
       "EisenbergNoeModel(Lᵉ, L)\n",
       "```\n",
       "\n",
       "Creates an instance of the NEVAModel with valuation functions\n",
       "\n",
       "$$\n",
       "\\begin{align}\n",
       "\\mathbb{V}^e_i(E_i) &= 1 \\quad \\forall i \\\\\n",
       "\\mathbb{V}_{ij}(E_j) &= \\unicode{x1D7D9}_{E_j \\geq 0} + \\left(\\frac{E_j + \\bar{p}_j}{\\bar{p}_j}\\right)^+ \\unicode{x1D7D9}_{E_j < 0} \\quad \\forall i, j\n",
       "\\end{align}\n",
       "$$\n",
       "\n",
       "where $\\bar{p}_j = \\sum_k L_{jk}$.\n",
       "\n",
       "This valuation was shown to correspond to the model by Eisenberg & Noe.\n"
      ],
      "text/plain": [
       "\u001b[36m  EisenbergNoeModel(Lᵉ, L)\u001b[39m\n",
       "\n",
       "  Creates an instance of the NEVAModel with valuation functions\n",
       "\n",
       "\u001b[35m\\begin{align}\u001b[39m\n",
       "\u001b[35m\\mathbb{V}^e_i(E_i) &= 1 \\quad \\forall i \\\\\u001b[39m\n",
       "\u001b[35m\\mathbb{V}_{ij}(E_j) &= \\unicode{x1D7D9}_{E_j \\geq 0} + \\left(\\frac{E_j + \\bar{p}_j}{\\bar{p}_j}\\right)^+ \\unicode{x1D7D9}_{E_j < 0} \\quad \\forall i, j\u001b[39m\n",
       "\u001b[35m\\end{align}\u001b[39m\n",
       "\n",
       "  where \u001b[35m\\bar{p}_j = \\sum_k L_{jk}\u001b[39m.\n",
       "\n",
       "  This valuation was shown to correspond to the model by Eisenberg & Noe."
      ]
     },
     "execution_count": 3,
     "metadata": {},
     "output_type": "execute_result"
    }
   ],
   "source": [
    "?EisenbergNoeModel"
   ]
  },
  {
   "cell_type": "code",
   "execution_count": 4,
   "metadata": {},
   "outputs": [
    {
     "name": "stdout",
     "output_type": "stream",
     "text": [
      "search: \u001b[0m\u001b[1mc\u001b[22m\u001b[0m\u001b[1mo\u001b[22m\u001b[0m\u001b[1mn\u001b[22m\u001b[0m\u001b[1ms\u001b[22m\u001b[0m\u001b[1mt\u001b[22m\u001b[0m\u001b[1ma\u001b[22m\u001b[0m\u001b[1mn\u001b[22m\u001b[0m\u001b[1mt\u001b[22m\u001b[0m\u001b[1ml\u001b[22m\u001b[0m\u001b[1my\u001b[22m Math\u001b[0m\u001b[1mC\u001b[22m\u001b[0m\u001b[1mo\u001b[22m\u001b[0m\u001b[1mn\u001b[22m\u001b[0m\u001b[1ms\u001b[22m\u001b[0m\u001b[1mt\u001b[22m\u001b[0m\u001b[1ma\u001b[22m\u001b[0m\u001b[1mn\u001b[22m\u001b[0m\u001b[1mt\u001b[22ms\n",
      "\n"
     ]
    },
    {
     "data": {
      "text/latex": [
       "\\begin{verbatim}\n",
       "constantly(val)\n",
       "\\end{verbatim}\n",
       "Create constant function that returns \\texttt{val} when called.\n",
       "\n"
      ],
      "text/markdown": [
       "```\n",
       "constantly(val)\n",
       "```\n",
       "\n",
       "Create constant function that returns `val` when called.\n"
      ],
      "text/plain": [
       "\u001b[36m  constantly(val)\u001b[39m\n",
       "\n",
       "  Create constant function that returns \u001b[36mval\u001b[39m when called."
      ]
     },
     "execution_count": 4,
     "metadata": {},
     "output_type": "execute_result"
    }
   ],
   "source": [
    "?constantly"
   ]
  },
  {
   "cell_type": "code",
   "execution_count": 6,
   "metadata": {},
   "outputs": [
    {
     "ename": "UndefVarError",
     "evalue": "UndefVarError: whereis not defined",
     "output_type": "error",
     "traceback": [
      "UndefVarError: whereis not defined",
      "",
      "Stacktrace:",
      " [1] top-level scope at In[6]:1"
     ]
    }
   ],
   "source": [
    "whereis(constantly)"
   ]
  },
  {
   "cell_type": "code",
   "execution_count": 7,
   "metadata": {},
   "outputs": [
    {
     "name": "stdout",
     "output_type": "stream",
     "text": [
      "search:\n",
      "\n"
     ]
    },
    {
     "data": {
      "text/latex": [
       "\\begin{verbatim}\n",
       "where\n",
       "\\end{verbatim}\n",
       "The \\texttt{where} keyword creates a type that is an iterated union of other types, over all values of some variable. For example \\texttt{Vector\\{T\\} where T<:Real} includes all \\href{@ref}{\\texttt{Vector}}s where the element type is some kind of \\texttt{Real} number.\n",
       "\n",
       "The variable bound defaults to \\texttt{Any} if it is omitted:\n",
       "\n",
       "\\begin{verbatim}\n",
       "Vector{T} where T    # short for `where T<:Any`\n",
       "\\end{verbatim}\n",
       "Variables can also have lower bounds:\n",
       "\n",
       "\\begin{verbatim}\n",
       "Vector{T} where T>:Int\n",
       "Vector{T} where Int<:T<:Real\n",
       "\\end{verbatim}\n",
       "There is also a concise syntax for nested \\texttt{where} expressions. For example, this:\n",
       "\n",
       "\\begin{verbatim}\n",
       "Pair{T, S} where S<:Array{T} where T<:Number\n",
       "\\end{verbatim}\n",
       "can be shortened to:\n",
       "\n",
       "\\begin{verbatim}\n",
       "Pair{T, S} where {T<:Number, S<:Array{T}}\n",
       "\\end{verbatim}\n",
       "This form is often found on method signatures.\n",
       "\n",
       "Note that in this form, the variables are listed outermost-first. This matches the order in which variables are substituted when a type is \"applied\" to parameter values using the syntax \\texttt{T\\{p1, p2, ...\\}}.\n",
       "\n"
      ],
      "text/markdown": [
       "```\n",
       "where\n",
       "```\n",
       "\n",
       "The `where` keyword creates a type that is an iterated union of other types, over all values of some variable. For example `Vector{T} where T<:Real` includes all [`Vector`](@ref)s where the element type is some kind of `Real` number.\n",
       "\n",
       "The variable bound defaults to `Any` if it is omitted:\n",
       "\n",
       "```julia\n",
       "Vector{T} where T    # short for `where T<:Any`\n",
       "```\n",
       "\n",
       "Variables can also have lower bounds:\n",
       "\n",
       "```julia\n",
       "Vector{T} where T>:Int\n",
       "Vector{T} where Int<:T<:Real\n",
       "```\n",
       "\n",
       "There is also a concise syntax for nested `where` expressions. For example, this:\n",
       "\n",
       "```julia\n",
       "Pair{T, S} where S<:Array{T} where T<:Number\n",
       "```\n",
       "\n",
       "can be shortened to:\n",
       "\n",
       "```julia\n",
       "Pair{T, S} where {T<:Number, S<:Array{T}}\n",
       "```\n",
       "\n",
       "This form is often found on method signatures.\n",
       "\n",
       "Note that in this form, the variables are listed outermost-first. This matches the order in which variables are substituted when a type is \"applied\" to parameter values using the syntax `T{p1, p2, ...}`.\n"
      ],
      "text/plain": [
       "\u001b[36m  where\u001b[39m\n",
       "\n",
       "  The \u001b[36mwhere\u001b[39m keyword creates a type that is an iterated union of other types,\n",
       "  over all values of some variable. For example \u001b[36mVector{T} where T<:Real\u001b[39m\n",
       "  includes all \u001b[36mVector\u001b[39ms where the element type is some kind of \u001b[36mReal\u001b[39m number.\n",
       "\n",
       "  The variable bound defaults to \u001b[36mAny\u001b[39m if it is omitted:\n",
       "\n",
       "\u001b[36m  Vector{T} where T    # short for `where T<:Any`\u001b[39m\n",
       "\n",
       "  Variables can also have lower bounds:\n",
       "\n",
       "\u001b[36m  Vector{T} where T>:Int\u001b[39m\n",
       "\u001b[36m  Vector{T} where Int<:T<:Real\u001b[39m\n",
       "\n",
       "  There is also a concise syntax for nested \u001b[36mwhere\u001b[39m expressions. For example,\n",
       "  this:\n",
       "\n",
       "\u001b[36m  Pair{T, S} where S<:Array{T} where T<:Number\u001b[39m\n",
       "\n",
       "  can be shortened to:\n",
       "\n",
       "\u001b[36m  Pair{T, S} where {T<:Number, S<:Array{T}}\u001b[39m\n",
       "\n",
       "  This form is often found on method signatures.\n",
       "\n",
       "  Note that in this form, the variables are listed outermost-first. This\n",
       "  matches the order in which variables are substituted when a type is\n",
       "  \"applied\" to parameter values using the syntax \u001b[36mT{p1, p2, ...}\u001b[39m."
      ]
     },
     "execution_count": 7,
     "metadata": {},
     "output_type": "execute_result"
    }
   ],
   "source": [
    "?where"
   ]
  },
  {
   "cell_type": "code",
   "execution_count": 9,
   "metadata": {},
   "outputs": [
    {
     "name": "stdout",
     "output_type": "stream",
     "text": [
      "search: \u001b[0m\u001b[1mn\u001b[22m\u001b[0m\u001b[1mo\u001b[22m\u001b[0m\u001b[1mt\u001b[22m\u001b[0m\u001b[1mh\u001b[22m\u001b[0m\u001b[1mi\u001b[22m\u001b[0m\u001b[1mn\u001b[22m\u001b[0m\u001b[1mg\u001b[22m \u001b[0m\u001b[1mN\u001b[22m\u001b[0m\u001b[1mo\u001b[22m\u001b[0m\u001b[1mt\u001b[22m\u001b[0m\u001b[1mh\u001b[22m\u001b[0m\u001b[1mi\u001b[22m\u001b[0m\u001b[1mn\u001b[22m\u001b[0m\u001b[1mg\u001b[22m is\u001b[0m\u001b[1mn\u001b[22m\u001b[0m\u001b[1mo\u001b[22m\u001b[0m\u001b[1mt\u001b[22m\u001b[0m\u001b[1mh\u001b[22m\u001b[0m\u001b[1mi\u001b[22m\u001b[0m\u001b[1mn\u001b[22m\u001b[0m\u001b[1mg\u001b[22m\n",
      "\n"
     ]
    },
    {
     "data": {
      "text/latex": [
       "\\begin{verbatim}\n",
       "nothing\n",
       "\\end{verbatim}\n",
       "The singleton instance of type \\href{@ref}{\\texttt{Nothing}}, used by convention when there is no value to return (as in a C \\texttt{void} function) or when a variable or field holds no value.\n",
       "\n"
      ],
      "text/markdown": [
       "```\n",
       "nothing\n",
       "```\n",
       "\n",
       "The singleton instance of type [`Nothing`](@ref), used by convention when there is no value to return (as in a C `void` function) or when a variable or field holds no value.\n"
      ],
      "text/plain": [
       "\u001b[36m  nothing\u001b[39m\n",
       "\n",
       "  The singleton instance of type \u001b[36mNothing\u001b[39m, used by convention when there is no\n",
       "  value to return (as in a C \u001b[36mvoid\u001b[39m function) or when a variable or field holds\n",
       "  no value."
      ]
     },
     "execution_count": 9,
     "metadata": {},
     "output_type": "execute_result"
    }
   ],
   "source": [
    "?nothing"
   ]
  },
  {
   "cell_type": "code",
   "execution_count": 10,
   "metadata": {},
   "outputs": [
    {
     "ename": "MethodError",
     "evalue": "MethodError: no method matching isapprox(::Nothing, ::Int64)\nClosest candidates are:\n  isapprox(!Matched::Missing, ::Any; kwargs...) at missing.jl:73\n  isapprox(::Any, !Matched::Missing; kwargs...) at missing.jl:74\n  isapprox(!Matched::Number, ::Number; atol, rtol, nans) at floatfuncs.jl:273",
     "output_type": "error",
     "traceback": [
      "MethodError: no method matching isapprox(::Nothing, ::Int64)\nClosest candidates are:\n  isapprox(!Matched::Missing, ::Any; kwargs...) at missing.jl:73\n  isapprox(::Any, !Matched::Missing; kwargs...) at missing.jl:74\n  isapprox(!Matched::Number, ::Number; atol, rtol, nans) at floatfuncs.jl:273",
      "",
      "Stacktrace:",
      " [1] top-level scope at In[10]:1"
     ]
    }
   ],
   "source": [
    "nothing ≈ 0"
   ]
  },
  {
   "cell_type": "code",
   "execution_count": null,
   "metadata": {},
   "outputs": [],
   "source": []
  }
 ],
 "metadata": {
  "kernelspec": {
   "display_name": "Julia 1.1.0",
   "language": "julia",
   "name": "julia-1.1"
  },
  "language_info": {
   "file_extension": ".jl",
   "mimetype": "application/julia",
   "name": "julia",
   "version": "1.1.0"
  }
 },
 "nbformat": 4,
 "nbformat_minor": 2
}
